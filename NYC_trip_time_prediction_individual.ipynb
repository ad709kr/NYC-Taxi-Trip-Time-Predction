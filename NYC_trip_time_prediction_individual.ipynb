{
  "cells": [
    {
      "cell_type": "markdown",
      "metadata": {
        "id": "view-in-github",
        "colab_type": "text"
      },
      "source": [
        "<a href=\"https://colab.research.google.com/github/ad709kr/NYC-Taxi-Trip-Time-Predction/blob/main/NYC_trip_time_prediction_individual.ipynb\" target=\"_parent\"><img src=\"https://colab.research.google.com/assets/colab-badge.svg\" alt=\"Open In Colab\"/></a>"
      ]
    },
    {
      "cell_type": "markdown",
      "metadata": {
        "id": "j1HIH__vliWG"
      },
      "source": [
        "## Project Name    -  NYC Taxi Trip Time Prediction "
      ]
    },
    {
      "cell_type": "markdown",
      "metadata": {
        "id": "TP0NqGYGlkY1"
      },
      "source": [
        "## Project Summary \n",
        "Task  is to build model to predicts the total ride duration of taxi trip in the New York city.Your primary dataset is one released by NYC Taxi and Limousine commission, which includes pickup time, geo-coordinates, number of passengers, and total other variables."
      ]
    },
    {
      "cell_type": "markdown",
      "metadata": {
        "id": "fUTK6vgOrWbI"
      },
      "source": [
        "## Problem statement\n",
        "Given the dataset, we have to predict the taxi trip duration."
      ]
    },
    {
      "cell_type": "markdown",
      "metadata": {
        "id": "ZaPu9ZoClkoC"
      },
      "source": [
        "## Dataset description  \n",
        "**id** - a unique identifier for each trip\n",
        "<br>**vendor_id** - a code indicating the provider associated with the trip record\n",
        "<br>**pickup_datetime** - date and time when the meter was engaged\n",
        "<br>**dropoff_datetime** - date and time when the meter was disengaged\n",
        "<br>**passenger_count** - the number of passengers in the vehicle (driver entered value)\n",
        "<br>**pickup_longitude** - the longitude where the meter was engaged\n",
        "<br>**pickup_latitude** - the latitude where the meter was engaged\n",
        "<br>**dropoff_longitude** - the longitude where the meter was disengaged\n",
        "<br>**dropoff_latitude** - the latitude where the meter was disengaged\n",
        "<br>**store_and_fwd_flag** - This flag indicates whether the trip record was held in vehicle memory before sending to the vendor because the vehicle did not have a connection to the server - Y=store and forward; N=not a store and forward \n",
        "<br>**trip_duration** - duration of the trip in seconds\n",
        "\n",
        "\n"
      ]
    },
    {
      "cell_type": "markdown",
      "metadata": {
        "id": "GJKX_OFQws1H"
      },
      "source": [
        "## Importing Libraries"
      ]
    },
    {
      "cell_type": "code",
      "execution_count": 1,
      "metadata": {
        "id": "rSmIzFerw38_"
      },
      "outputs": [],
      "source": [
        "import pandas as pd\n",
        "import numpy as np\n",
        "import matplotlib.pyplot as plt\n",
        "import seaborn as sns\n",
        "\n",
        "from geopy.distance import great_circle\n",
        "from math import radians, sin, cos, atan2,sqrt\n",
        "from scipy import stats\n",
        "import scipy\n",
        "import math\n",
        "\n",
        "from tqdm import tqdm\n",
        "from sklearn.preprocessing import MinMaxScaler\n",
        "import folium # to plot street map\n",
        "from sklearn.model_selection import train_test_split\n",
        "from sklearn.linear_model import LinearRegression\n",
        "from sklearn.tree import DecisionTreeRegressor\n",
        "from sklearn.ensemble import RandomForestRegressor\n",
        "from sklearn.model_selection import RandomizedSearchCV\n",
        "from sklearn.linear_model import Ridge\n",
        "from sklearn.linear_model import Lasso\n",
        "\n",
        "\n",
        "from sklearn.metrics import mean_squared_error\n",
        "from sklearn.metrics import r2_score\n",
        "from sklearn.metrics import mean_absolute_percentage_error\n"
      ]
    },
    {
      "cell_type": "markdown",
      "metadata": {
        "id": "IXqVtXXOvE2F"
      },
      "source": [
        "## Data loading"
      ]
    },
    {
      "cell_type": "code",
      "execution_count": 2,
      "metadata": {
        "colab": {
          "base_uri": "https://localhost:8080/"
        },
        "id": "GkJt76T7wRCw",
        "outputId": "25c780aa-08c5-429f-a531-fb2d163d0887"
      },
      "outputs": [
        {
          "output_type": "stream",
          "name": "stdout",
          "text": [
            "Mounted at /content/drive\n"
          ]
        }
      ],
      "source": [
        "from google.colab import drive\n",
        "drive.mount('/content/drive')"
      ]
    },
    {
      "cell_type": "code",
      "execution_count": 3,
      "metadata": {
        "colab": {
          "base_uri": "https://localhost:8080/",
          "height": 337
        },
        "id": "D3D3DtcDuW5x",
        "outputId": "09e95dde-7c9c-42ac-cf33-ab0ac708c6b0"
      },
      "outputs": [
        {
          "output_type": "execute_result",
          "data": {
            "text/plain": [
              "          id  vendor_id      pickup_datetime     dropoff_datetime  \\\n",
              "0  id2875421          2  2016-03-14 17:24:55  2016-03-14 17:32:30   \n",
              "1  id2377394          1  2016-06-12 00:43:35  2016-06-12 00:54:38   \n",
              "2  id3858529          2  2016-01-19 11:35:24  2016-01-19 12:10:48   \n",
              "3  id3504673          2  2016-04-06 19:32:31  2016-04-06 19:39:40   \n",
              "4  id2181028          2  2016-03-26 13:30:55  2016-03-26 13:38:10   \n",
              "\n",
              "   passenger_count  pickup_longitude  pickup_latitude  dropoff_longitude  \\\n",
              "0                1        -73.982155        40.767937         -73.964630   \n",
              "1                1        -73.980415        40.738564         -73.999481   \n",
              "2                1        -73.979027        40.763939         -74.005333   \n",
              "3                1        -74.010040        40.719971         -74.012268   \n",
              "4                1        -73.973053        40.793209         -73.972923   \n",
              "\n",
              "   dropoff_latitude store_and_fwd_flag  trip_duration  \n",
              "0         40.765602                  N            455  \n",
              "1         40.731152                  N            663  \n",
              "2         40.710087                  N           2124  \n",
              "3         40.706718                  N            429  \n",
              "4         40.782520                  N            435  "
            ],
            "text/html": [
              "\n",
              "  <div id=\"df-b70e38d1-b0ac-484f-bc41-5cbec4072270\">\n",
              "    <div class=\"colab-df-container\">\n",
              "      <div>\n",
              "<style scoped>\n",
              "    .dataframe tbody tr th:only-of-type {\n",
              "        vertical-align: middle;\n",
              "    }\n",
              "\n",
              "    .dataframe tbody tr th {\n",
              "        vertical-align: top;\n",
              "    }\n",
              "\n",
              "    .dataframe thead th {\n",
              "        text-align: right;\n",
              "    }\n",
              "</style>\n",
              "<table border=\"1\" class=\"dataframe\">\n",
              "  <thead>\n",
              "    <tr style=\"text-align: right;\">\n",
              "      <th></th>\n",
              "      <th>id</th>\n",
              "      <th>vendor_id</th>\n",
              "      <th>pickup_datetime</th>\n",
              "      <th>dropoff_datetime</th>\n",
              "      <th>passenger_count</th>\n",
              "      <th>pickup_longitude</th>\n",
              "      <th>pickup_latitude</th>\n",
              "      <th>dropoff_longitude</th>\n",
              "      <th>dropoff_latitude</th>\n",
              "      <th>store_and_fwd_flag</th>\n",
              "      <th>trip_duration</th>\n",
              "    </tr>\n",
              "  </thead>\n",
              "  <tbody>\n",
              "    <tr>\n",
              "      <th>0</th>\n",
              "      <td>id2875421</td>\n",
              "      <td>2</td>\n",
              "      <td>2016-03-14 17:24:55</td>\n",
              "      <td>2016-03-14 17:32:30</td>\n",
              "      <td>1</td>\n",
              "      <td>-73.982155</td>\n",
              "      <td>40.767937</td>\n",
              "      <td>-73.964630</td>\n",
              "      <td>40.765602</td>\n",
              "      <td>N</td>\n",
              "      <td>455</td>\n",
              "    </tr>\n",
              "    <tr>\n",
              "      <th>1</th>\n",
              "      <td>id2377394</td>\n",
              "      <td>1</td>\n",
              "      <td>2016-06-12 00:43:35</td>\n",
              "      <td>2016-06-12 00:54:38</td>\n",
              "      <td>1</td>\n",
              "      <td>-73.980415</td>\n",
              "      <td>40.738564</td>\n",
              "      <td>-73.999481</td>\n",
              "      <td>40.731152</td>\n",
              "      <td>N</td>\n",
              "      <td>663</td>\n",
              "    </tr>\n",
              "    <tr>\n",
              "      <th>2</th>\n",
              "      <td>id3858529</td>\n",
              "      <td>2</td>\n",
              "      <td>2016-01-19 11:35:24</td>\n",
              "      <td>2016-01-19 12:10:48</td>\n",
              "      <td>1</td>\n",
              "      <td>-73.979027</td>\n",
              "      <td>40.763939</td>\n",
              "      <td>-74.005333</td>\n",
              "      <td>40.710087</td>\n",
              "      <td>N</td>\n",
              "      <td>2124</td>\n",
              "    </tr>\n",
              "    <tr>\n",
              "      <th>3</th>\n",
              "      <td>id3504673</td>\n",
              "      <td>2</td>\n",
              "      <td>2016-04-06 19:32:31</td>\n",
              "      <td>2016-04-06 19:39:40</td>\n",
              "      <td>1</td>\n",
              "      <td>-74.010040</td>\n",
              "      <td>40.719971</td>\n",
              "      <td>-74.012268</td>\n",
              "      <td>40.706718</td>\n",
              "      <td>N</td>\n",
              "      <td>429</td>\n",
              "    </tr>\n",
              "    <tr>\n",
              "      <th>4</th>\n",
              "      <td>id2181028</td>\n",
              "      <td>2</td>\n",
              "      <td>2016-03-26 13:30:55</td>\n",
              "      <td>2016-03-26 13:38:10</td>\n",
              "      <td>1</td>\n",
              "      <td>-73.973053</td>\n",
              "      <td>40.793209</td>\n",
              "      <td>-73.972923</td>\n",
              "      <td>40.782520</td>\n",
              "      <td>N</td>\n",
              "      <td>435</td>\n",
              "    </tr>\n",
              "  </tbody>\n",
              "</table>\n",
              "</div>\n",
              "      <button class=\"colab-df-convert\" onclick=\"convertToInteractive('df-b70e38d1-b0ac-484f-bc41-5cbec4072270')\"\n",
              "              title=\"Convert this dataframe to an interactive table.\"\n",
              "              style=\"display:none;\">\n",
              "        \n",
              "  <svg xmlns=\"http://www.w3.org/2000/svg\" height=\"24px\"viewBox=\"0 0 24 24\"\n",
              "       width=\"24px\">\n",
              "    <path d=\"M0 0h24v24H0V0z\" fill=\"none\"/>\n",
              "    <path d=\"M18.56 5.44l.94 2.06.94-2.06 2.06-.94-2.06-.94-.94-2.06-.94 2.06-2.06.94zm-11 1L8.5 8.5l.94-2.06 2.06-.94-2.06-.94L8.5 2.5l-.94 2.06-2.06.94zm10 10l.94 2.06.94-2.06 2.06-.94-2.06-.94-.94-2.06-.94 2.06-2.06.94z\"/><path d=\"M17.41 7.96l-1.37-1.37c-.4-.4-.92-.59-1.43-.59-.52 0-1.04.2-1.43.59L10.3 9.45l-7.72 7.72c-.78.78-.78 2.05 0 2.83L4 21.41c.39.39.9.59 1.41.59.51 0 1.02-.2 1.41-.59l7.78-7.78 2.81-2.81c.8-.78.8-2.07 0-2.86zM5.41 20L4 18.59l7.72-7.72 1.47 1.35L5.41 20z\"/>\n",
              "  </svg>\n",
              "      </button>\n",
              "      \n",
              "  <style>\n",
              "    .colab-df-container {\n",
              "      display:flex;\n",
              "      flex-wrap:wrap;\n",
              "      gap: 12px;\n",
              "    }\n",
              "\n",
              "    .colab-df-convert {\n",
              "      background-color: #E8F0FE;\n",
              "      border: none;\n",
              "      border-radius: 50%;\n",
              "      cursor: pointer;\n",
              "      display: none;\n",
              "      fill: #1967D2;\n",
              "      height: 32px;\n",
              "      padding: 0 0 0 0;\n",
              "      width: 32px;\n",
              "    }\n",
              "\n",
              "    .colab-df-convert:hover {\n",
              "      background-color: #E2EBFA;\n",
              "      box-shadow: 0px 1px 2px rgba(60, 64, 67, 0.3), 0px 1px 3px 1px rgba(60, 64, 67, 0.15);\n",
              "      fill: #174EA6;\n",
              "    }\n",
              "\n",
              "    [theme=dark] .colab-df-convert {\n",
              "      background-color: #3B4455;\n",
              "      fill: #D2E3FC;\n",
              "    }\n",
              "\n",
              "    [theme=dark] .colab-df-convert:hover {\n",
              "      background-color: #434B5C;\n",
              "      box-shadow: 0px 1px 3px 1px rgba(0, 0, 0, 0.15);\n",
              "      filter: drop-shadow(0px 1px 2px rgba(0, 0, 0, 0.3));\n",
              "      fill: #FFFFFF;\n",
              "    }\n",
              "  </style>\n",
              "\n",
              "      <script>\n",
              "        const buttonEl =\n",
              "          document.querySelector('#df-b70e38d1-b0ac-484f-bc41-5cbec4072270 button.colab-df-convert');\n",
              "        buttonEl.style.display =\n",
              "          google.colab.kernel.accessAllowed ? 'block' : 'none';\n",
              "\n",
              "        async function convertToInteractive(key) {\n",
              "          const element = document.querySelector('#df-b70e38d1-b0ac-484f-bc41-5cbec4072270');\n",
              "          const dataTable =\n",
              "            await google.colab.kernel.invokeFunction('convertToInteractive',\n",
              "                                                     [key], {});\n",
              "          if (!dataTable) return;\n",
              "\n",
              "          const docLinkHtml = 'Like what you see? Visit the ' +\n",
              "            '<a target=\"_blank\" href=https://colab.research.google.com/notebooks/data_table.ipynb>data table notebook</a>'\n",
              "            + ' to learn more about interactive tables.';\n",
              "          element.innerHTML = '';\n",
              "          dataTable['output_type'] = 'display_data';\n",
              "          await google.colab.output.renderOutput(dataTable, element);\n",
              "          const docLink = document.createElement('div');\n",
              "          docLink.innerHTML = docLinkHtml;\n",
              "          element.appendChild(docLink);\n",
              "        }\n",
              "      </script>\n",
              "    </div>\n",
              "  </div>\n",
              "  "
            ]
          },
          "metadata": {},
          "execution_count": 3
        }
      ],
      "source": [
        "file = '/content/drive/MyDrive/Almabetter/regression_project/Copy of NYC Taxi Data.csv'\n",
        "df = pd.read_csv(file)\n",
        "df.head()"
      ]
    },
    {
      "cell_type": "code",
      "execution_count": 4,
      "metadata": {
        "colab": {
          "base_uri": "https://localhost:8080/"
        },
        "id": "_TqCeIdCuXOK",
        "outputId": "8fd45a81-a834-4f29-911b-90ec38c7bfde"
      },
      "outputs": [
        {
          "output_type": "stream",
          "name": "stdout",
          "text": [
            "The shape of dataset is  (1458644, 11)\n"
          ]
        }
      ],
      "source": [
        "print(\"The shape of dataset is \",df.shape)"
      ]
    },
    {
      "cell_type": "code",
      "execution_count": 6,
      "metadata": {
        "colab": {
          "base_uri": "https://localhost:8080/"
        },
        "id": "_EvMQNq2x9Eb",
        "outputId": "b56b1273-9d6a-4d0a-c160-61278d94b9f1"
      },
      "outputs": [
        {
          "output_type": "stream",
          "name": "stdout",
          "text": [
            "<class 'pandas.core.frame.DataFrame'>\n",
            "RangeIndex: 1458644 entries, 0 to 1458643\n",
            "Data columns (total 11 columns):\n",
            " #   Column              Non-Null Count    Dtype  \n",
            "---  ------              --------------    -----  \n",
            " 0   id                  1458644 non-null  object \n",
            " 1   vendor_id           1458644 non-null  int64  \n",
            " 2   pickup_datetime     1458644 non-null  object \n",
            " 3   dropoff_datetime    1458644 non-null  object \n",
            " 4   passenger_count     1458644 non-null  int64  \n",
            " 5   pickup_longitude    1458644 non-null  float64\n",
            " 6   pickup_latitude     1458644 non-null  float64\n",
            " 7   dropoff_longitude   1458644 non-null  float64\n",
            " 8   dropoff_latitude    1458644 non-null  float64\n",
            " 9   store_and_fwd_flag  1458644 non-null  object \n",
            " 10  trip_duration       1458644 non-null  int64  \n",
            "dtypes: float64(4), int64(3), object(4)\n",
            "memory usage: 122.4+ MB\n"
          ]
        }
      ],
      "source": [
        "df.info()"
      ]
    },
    {
      "cell_type": "code",
      "execution_count": 5,
      "metadata": {
        "colab": {
          "base_uri": "https://localhost:8080/"
        },
        "id": "tYBqhIgXuXRR",
        "outputId": "ca4b32ca-a0fc-41a0-8c1f-a2f380acda33"
      },
      "outputs": [
        {
          "output_type": "execute_result",
          "data": {
            "text/plain": [
              "id                    0\n",
              "vendor_id             0\n",
              "pickup_datetime       0\n",
              "dropoff_datetime      0\n",
              "passenger_count       0\n",
              "pickup_longitude      0\n",
              "pickup_latitude       0\n",
              "dropoff_longitude     0\n",
              "dropoff_latitude      0\n",
              "store_and_fwd_flag    0\n",
              "trip_duration         0\n",
              "dtype: int64"
            ]
          },
          "metadata": {},
          "execution_count": 5
        }
      ],
      "source": [
        "# Checking null values\n",
        "df.isnull().sum()"
      ]
    },
    {
      "cell_type": "code",
      "execution_count": 7,
      "metadata": {
        "colab": {
          "base_uri": "https://localhost:8080/"
        },
        "id": "BFiskWRryAE0",
        "outputId": "e74107ac-fd22-43c4-e2fb-d6976d4f3038"
      },
      "outputs": [
        {
          "output_type": "execute_result",
          "data": {
            "text/plain": [
              "id                    0\n",
              "vendor_id             0\n",
              "pickup_datetime       0\n",
              "dropoff_datetime      0\n",
              "passenger_count       0\n",
              "pickup_longitude      0\n",
              "pickup_latitude       0\n",
              "dropoff_longitude     0\n",
              "dropoff_latitude      0\n",
              "store_and_fwd_flag    0\n",
              "trip_duration         0\n",
              "dtype: int64"
            ]
          },
          "metadata": {},
          "execution_count": 7
        }
      ],
      "source": [
        "# checking duplicate\n",
        "df[df.duplicated()].count()"
      ]
    },
    {
      "cell_type": "markdown",
      "metadata": {
        "id": "zS3V8Fukyshq"
      },
      "source": [
        "**observation**\n",
        "<br> There is no null, duplicate items in the dataset. Two features which needs to be converted in to the date_time function and to extract some features from that."
      ]
    },
    {
      "cell_type": "code",
      "execution_count": 8,
      "metadata": {
        "id": "1B0jZPve1sJ5"
      },
      "outputs": [],
      "source": [
        "# Lets convert pickup_datetime and drop_off datetime to datetime functions\n",
        "df['pickup_datetime'] = pd.to_datetime(df[\"pickup_datetime\"])\n",
        "df['dropoff_datetime']=pd.to_datetime(df['dropoff_datetime'])\n",
        "#df = pd.to_datetime(df[\"dropoff_datetime\"])"
      ]
    },
    {
      "cell_type": "markdown",
      "metadata": {
        "id": "FdPHWfB_5Btr"
      },
      "source": [
        "**Feature extraction**\n"
      ]
    },
    {
      "cell_type": "code",
      "execution_count": 9,
      "metadata": {
        "id": "NdL22rKL5OQD"
      },
      "outputs": [],
      "source": [
        "# date_time to day\n",
        "df['pickup_day']=df['pickup_datetime'].dt.day_name()\n",
        "df['dropoff_day']=df['dropoff_datetime'].dt.day_name()"
      ]
    },
    {
      "cell_type": "code",
      "execution_count": 10,
      "metadata": {
        "id": "_TiiIEr05V1y"
      },
      "outputs": [],
      "source": [
        "# date_time to month\n",
        "df['pickup_month']=df['pickup_datetime'].dt.month\n",
        "df['dropoff_month']=df['dropoff_datetime'].dt.month\n",
        "\n",
        "df['pickup_hour']=df['pickup_datetime'].dt.hour\n",
        "df['dropoff_hour']=df['dropoff_datetime'].dt.hour\n",
        "\n",
        "df['pickup_minute']=df['pickup_datetime'].dt.minute\n",
        "df['dropoff_minute']=df['dropoff_datetime'].dt.minute"
      ]
    },
    {
      "cell_type": "code",
      "execution_count": 11,
      "metadata": {
        "colab": {
          "base_uri": "https://localhost:8080/",
          "height": 70
        },
        "id": "g5QDfjPrpAd8",
        "outputId": "46fb5b53-3f38-40ea-d674-2f9c63ccc311"
      },
      "outputs": [
        {
          "output_type": "execute_result",
          "data": {
            "text/plain": [
              "'def second_distance(pickup_latitude,pickup_longitude,dropoff_latitude,dropoff_longitude):\\n  r = 6371.0\\n  pickup_lat = radians(pickup_latitude)\\n  pickup_lon = radians(pickup_longitude)\\n  \\n  dropoff_lat = radians(dropoff_latitude)\\n  dropoff_lon = radians(dropoff_longitude)\\n\\n  dis_lat = dropoff_lat-pickup_lat\\n  dis_long = dropoff_lon-pickup_lon\\n\\n  a = sin(dis_lat / 2)**2 + cos(pickup_lat) * cos(dropoff_lat) * sin(dis_long / 2)**2\\n  c = 2 * atan2(sqrt(a), sqrt(1 - a)) \\n\\n\\n  return r*c'"
            ],
            "application/vnd.google.colaboratory.intrinsic+json": {
              "type": "string"
            }
          },
          "metadata": {},
          "execution_count": 11
        }
      ],
      "source": [
        "def great_circle_distance(pickup_latitude,pickup_longitude,dropoff_latitude,dropoff_longitude):\n",
        "  pickup = (pickup_latitude,pickup_longitude)\n",
        "  dropoff = (dropoff_latitude,dropoff_longitude)\n",
        "  return great_circle(pickup,dropoff).miles\n",
        "\n",
        "'''def second_distance(pickup_latitude,pickup_longitude,dropoff_latitude,dropoff_longitude):\n",
        "  r = 6371.0\n",
        "  pickup_lat = radians(pickup_latitude)\n",
        "  pickup_lon = radians(pickup_longitude)\n",
        "  \n",
        "  dropoff_lat = radians(dropoff_latitude)\n",
        "  dropoff_lon = radians(dropoff_longitude)\n",
        "\n",
        "  dis_lat = dropoff_lat-pickup_lat\n",
        "  dis_long = dropoff_lon-pickup_lon\n",
        "\n",
        "  a = sin(dis_lat / 2)**2 + cos(pickup_lat) * cos(dropoff_lat) * sin(dis_long / 2)**2\n",
        "  c = 2 * atan2(sqrt(a), sqrt(1 - a)) \n",
        "\n",
        "\n",
        "  return r*c'''"
      ]
    },
    {
      "cell_type": "code",
      "execution_count": 12,
      "metadata": {
        "id": "2oALC67Kr7OR"
      },
      "outputs": [],
      "source": [
        "df['trip_distance'] = df.apply(lambda x : great_circle_distance(x['pickup_latitude'],x['pickup_longitude'],x['dropoff_latitude'],x['dropoff_longitude']),axis = 1)"
      ]
    },
    {
      "cell_type": "code",
      "execution_count": 13,
      "metadata": {
        "colab": {
          "base_uri": "https://localhost:8080/",
          "height": 357
        },
        "id": "i9xREuQtaQ_c",
        "outputId": "3874f8d8-04d5-4c20-b223-56b9470c1b58"
      },
      "outputs": [
        {
          "output_type": "execute_result",
          "data": {
            "text/plain": [
              "          id  vendor_id     pickup_datetime    dropoff_datetime  \\\n",
              "0  id2875421          2 2016-03-14 17:24:55 2016-03-14 17:32:30   \n",
              "1  id2377394          1 2016-06-12 00:43:35 2016-06-12 00:54:38   \n",
              "2  id3858529          2 2016-01-19 11:35:24 2016-01-19 12:10:48   \n",
              "3  id3504673          2 2016-04-06 19:32:31 2016-04-06 19:39:40   \n",
              "4  id2181028          2 2016-03-26 13:30:55 2016-03-26 13:38:10   \n",
              "\n",
              "   passenger_count  pickup_longitude  pickup_latitude  dropoff_longitude  \\\n",
              "0                1        -73.982155        40.767937         -73.964630   \n",
              "1                1        -73.980415        40.738564         -73.999481   \n",
              "2                1        -73.979027        40.763939         -74.005333   \n",
              "3                1        -74.010040        40.719971         -74.012268   \n",
              "4                1        -73.973053        40.793209         -73.972923   \n",
              "\n",
              "   dropoff_latitude store_and_fwd_flag  trip_duration pickup_day dropoff_day  \\\n",
              "0         40.765602                  N            455     Monday      Monday   \n",
              "1         40.731152                  N            663     Sunday      Sunday   \n",
              "2         40.710087                  N           2124    Tuesday     Tuesday   \n",
              "3         40.706718                  N            429  Wednesday   Wednesday   \n",
              "4         40.782520                  N            435   Saturday    Saturday   \n",
              "\n",
              "   pickup_month  dropoff_month  pickup_hour  dropoff_hour  pickup_minute  \\\n",
              "0             3              3           17            17             24   \n",
              "1             6              6            0             0             43   \n",
              "2             1              1           11            12             35   \n",
              "3             4              4           19            19             32   \n",
              "4             3              3           13            13             30   \n",
              "\n",
              "   dropoff_minute  trip_distance  \n",
              "0              32       0.931139  \n",
              "1              54       1.121892  \n",
              "2              10       3.967522  \n",
              "3              39       0.923047  \n",
              "4              38       0.738556  "
            ],
            "text/html": [
              "\n",
              "  <div id=\"df-74cdf82f-de96-4a8c-b1b2-9522aed79546\">\n",
              "    <div class=\"colab-df-container\">\n",
              "      <div>\n",
              "<style scoped>\n",
              "    .dataframe tbody tr th:only-of-type {\n",
              "        vertical-align: middle;\n",
              "    }\n",
              "\n",
              "    .dataframe tbody tr th {\n",
              "        vertical-align: top;\n",
              "    }\n",
              "\n",
              "    .dataframe thead th {\n",
              "        text-align: right;\n",
              "    }\n",
              "</style>\n",
              "<table border=\"1\" class=\"dataframe\">\n",
              "  <thead>\n",
              "    <tr style=\"text-align: right;\">\n",
              "      <th></th>\n",
              "      <th>id</th>\n",
              "      <th>vendor_id</th>\n",
              "      <th>pickup_datetime</th>\n",
              "      <th>dropoff_datetime</th>\n",
              "      <th>passenger_count</th>\n",
              "      <th>pickup_longitude</th>\n",
              "      <th>pickup_latitude</th>\n",
              "      <th>dropoff_longitude</th>\n",
              "      <th>dropoff_latitude</th>\n",
              "      <th>store_and_fwd_flag</th>\n",
              "      <th>trip_duration</th>\n",
              "      <th>pickup_day</th>\n",
              "      <th>dropoff_day</th>\n",
              "      <th>pickup_month</th>\n",
              "      <th>dropoff_month</th>\n",
              "      <th>pickup_hour</th>\n",
              "      <th>dropoff_hour</th>\n",
              "      <th>pickup_minute</th>\n",
              "      <th>dropoff_minute</th>\n",
              "      <th>trip_distance</th>\n",
              "    </tr>\n",
              "  </thead>\n",
              "  <tbody>\n",
              "    <tr>\n",
              "      <th>0</th>\n",
              "      <td>id2875421</td>\n",
              "      <td>2</td>\n",
              "      <td>2016-03-14 17:24:55</td>\n",
              "      <td>2016-03-14 17:32:30</td>\n",
              "      <td>1</td>\n",
              "      <td>-73.982155</td>\n",
              "      <td>40.767937</td>\n",
              "      <td>-73.964630</td>\n",
              "      <td>40.765602</td>\n",
              "      <td>N</td>\n",
              "      <td>455</td>\n",
              "      <td>Monday</td>\n",
              "      <td>Monday</td>\n",
              "      <td>3</td>\n",
              "      <td>3</td>\n",
              "      <td>17</td>\n",
              "      <td>17</td>\n",
              "      <td>24</td>\n",
              "      <td>32</td>\n",
              "      <td>0.931139</td>\n",
              "    </tr>\n",
              "    <tr>\n",
              "      <th>1</th>\n",
              "      <td>id2377394</td>\n",
              "      <td>1</td>\n",
              "      <td>2016-06-12 00:43:35</td>\n",
              "      <td>2016-06-12 00:54:38</td>\n",
              "      <td>1</td>\n",
              "      <td>-73.980415</td>\n",
              "      <td>40.738564</td>\n",
              "      <td>-73.999481</td>\n",
              "      <td>40.731152</td>\n",
              "      <td>N</td>\n",
              "      <td>663</td>\n",
              "      <td>Sunday</td>\n",
              "      <td>Sunday</td>\n",
              "      <td>6</td>\n",
              "      <td>6</td>\n",
              "      <td>0</td>\n",
              "      <td>0</td>\n",
              "      <td>43</td>\n",
              "      <td>54</td>\n",
              "      <td>1.121892</td>\n",
              "    </tr>\n",
              "    <tr>\n",
              "      <th>2</th>\n",
              "      <td>id3858529</td>\n",
              "      <td>2</td>\n",
              "      <td>2016-01-19 11:35:24</td>\n",
              "      <td>2016-01-19 12:10:48</td>\n",
              "      <td>1</td>\n",
              "      <td>-73.979027</td>\n",
              "      <td>40.763939</td>\n",
              "      <td>-74.005333</td>\n",
              "      <td>40.710087</td>\n",
              "      <td>N</td>\n",
              "      <td>2124</td>\n",
              "      <td>Tuesday</td>\n",
              "      <td>Tuesday</td>\n",
              "      <td>1</td>\n",
              "      <td>1</td>\n",
              "      <td>11</td>\n",
              "      <td>12</td>\n",
              "      <td>35</td>\n",
              "      <td>10</td>\n",
              "      <td>3.967522</td>\n",
              "    </tr>\n",
              "    <tr>\n",
              "      <th>3</th>\n",
              "      <td>id3504673</td>\n",
              "      <td>2</td>\n",
              "      <td>2016-04-06 19:32:31</td>\n",
              "      <td>2016-04-06 19:39:40</td>\n",
              "      <td>1</td>\n",
              "      <td>-74.010040</td>\n",
              "      <td>40.719971</td>\n",
              "      <td>-74.012268</td>\n",
              "      <td>40.706718</td>\n",
              "      <td>N</td>\n",
              "      <td>429</td>\n",
              "      <td>Wednesday</td>\n",
              "      <td>Wednesday</td>\n",
              "      <td>4</td>\n",
              "      <td>4</td>\n",
              "      <td>19</td>\n",
              "      <td>19</td>\n",
              "      <td>32</td>\n",
              "      <td>39</td>\n",
              "      <td>0.923047</td>\n",
              "    </tr>\n",
              "    <tr>\n",
              "      <th>4</th>\n",
              "      <td>id2181028</td>\n",
              "      <td>2</td>\n",
              "      <td>2016-03-26 13:30:55</td>\n",
              "      <td>2016-03-26 13:38:10</td>\n",
              "      <td>1</td>\n",
              "      <td>-73.973053</td>\n",
              "      <td>40.793209</td>\n",
              "      <td>-73.972923</td>\n",
              "      <td>40.782520</td>\n",
              "      <td>N</td>\n",
              "      <td>435</td>\n",
              "      <td>Saturday</td>\n",
              "      <td>Saturday</td>\n",
              "      <td>3</td>\n",
              "      <td>3</td>\n",
              "      <td>13</td>\n",
              "      <td>13</td>\n",
              "      <td>30</td>\n",
              "      <td>38</td>\n",
              "      <td>0.738556</td>\n",
              "    </tr>\n",
              "  </tbody>\n",
              "</table>\n",
              "</div>\n",
              "      <button class=\"colab-df-convert\" onclick=\"convertToInteractive('df-74cdf82f-de96-4a8c-b1b2-9522aed79546')\"\n",
              "              title=\"Convert this dataframe to an interactive table.\"\n",
              "              style=\"display:none;\">\n",
              "        \n",
              "  <svg xmlns=\"http://www.w3.org/2000/svg\" height=\"24px\"viewBox=\"0 0 24 24\"\n",
              "       width=\"24px\">\n",
              "    <path d=\"M0 0h24v24H0V0z\" fill=\"none\"/>\n",
              "    <path d=\"M18.56 5.44l.94 2.06.94-2.06 2.06-.94-2.06-.94-.94-2.06-.94 2.06-2.06.94zm-11 1L8.5 8.5l.94-2.06 2.06-.94-2.06-.94L8.5 2.5l-.94 2.06-2.06.94zm10 10l.94 2.06.94-2.06 2.06-.94-2.06-.94-.94-2.06-.94 2.06-2.06.94z\"/><path d=\"M17.41 7.96l-1.37-1.37c-.4-.4-.92-.59-1.43-.59-.52 0-1.04.2-1.43.59L10.3 9.45l-7.72 7.72c-.78.78-.78 2.05 0 2.83L4 21.41c.39.39.9.59 1.41.59.51 0 1.02-.2 1.41-.59l7.78-7.78 2.81-2.81c.8-.78.8-2.07 0-2.86zM5.41 20L4 18.59l7.72-7.72 1.47 1.35L5.41 20z\"/>\n",
              "  </svg>\n",
              "      </button>\n",
              "      \n",
              "  <style>\n",
              "    .colab-df-container {\n",
              "      display:flex;\n",
              "      flex-wrap:wrap;\n",
              "      gap: 12px;\n",
              "    }\n",
              "\n",
              "    .colab-df-convert {\n",
              "      background-color: #E8F0FE;\n",
              "      border: none;\n",
              "      border-radius: 50%;\n",
              "      cursor: pointer;\n",
              "      display: none;\n",
              "      fill: #1967D2;\n",
              "      height: 32px;\n",
              "      padding: 0 0 0 0;\n",
              "      width: 32px;\n",
              "    }\n",
              "\n",
              "    .colab-df-convert:hover {\n",
              "      background-color: #E2EBFA;\n",
              "      box-shadow: 0px 1px 2px rgba(60, 64, 67, 0.3), 0px 1px 3px 1px rgba(60, 64, 67, 0.15);\n",
              "      fill: #174EA6;\n",
              "    }\n",
              "\n",
              "    [theme=dark] .colab-df-convert {\n",
              "      background-color: #3B4455;\n",
              "      fill: #D2E3FC;\n",
              "    }\n",
              "\n",
              "    [theme=dark] .colab-df-convert:hover {\n",
              "      background-color: #434B5C;\n",
              "      box-shadow: 0px 1px 3px 1px rgba(0, 0, 0, 0.15);\n",
              "      filter: drop-shadow(0px 1px 2px rgba(0, 0, 0, 0.3));\n",
              "      fill: #FFFFFF;\n",
              "    }\n",
              "  </style>\n",
              "\n",
              "      <script>\n",
              "        const buttonEl =\n",
              "          document.querySelector('#df-74cdf82f-de96-4a8c-b1b2-9522aed79546 button.colab-df-convert');\n",
              "        buttonEl.style.display =\n",
              "          google.colab.kernel.accessAllowed ? 'block' : 'none';\n",
              "\n",
              "        async function convertToInteractive(key) {\n",
              "          const element = document.querySelector('#df-74cdf82f-de96-4a8c-b1b2-9522aed79546');\n",
              "          const dataTable =\n",
              "            await google.colab.kernel.invokeFunction('convertToInteractive',\n",
              "                                                     [key], {});\n",
              "          if (!dataTable) return;\n",
              "\n",
              "          const docLinkHtml = 'Like what you see? Visit the ' +\n",
              "            '<a target=\"_blank\" href=https://colab.research.google.com/notebooks/data_table.ipynb>data table notebook</a>'\n",
              "            + ' to learn more about interactive tables.';\n",
              "          element.innerHTML = '';\n",
              "          dataTable['output_type'] = 'display_data';\n",
              "          await google.colab.output.renderOutput(dataTable, element);\n",
              "          const docLink = document.createElement('div');\n",
              "          docLink.innerHTML = docLinkHtml;\n",
              "          element.appendChild(docLink);\n",
              "        }\n",
              "      </script>\n",
              "    </div>\n",
              "  </div>\n",
              "  "
            ]
          },
          "metadata": {},
          "execution_count": 13
        }
      ],
      "source": [
        "df.head()"
      ]
    },
    {
      "cell_type": "code",
      "execution_count": 14,
      "metadata": {
        "colab": {
          "base_uri": "https://localhost:8080/"
        },
        "id": "dw9CnWXuC5op",
        "outputId": "8f01f4ea-18d9-4edc-d2b0-5a48d23dac9f"
      },
      "outputs": [
        {
          "output_type": "execute_result",
          "data": {
            "text/plain": [
              "int64             9\n",
              "float64           5\n",
              "object            4\n",
              "datetime64[ns]    2\n",
              "dtype: int64"
            ]
          },
          "metadata": {},
          "execution_count": 14
        }
      ],
      "source": [
        "df.dtypes.value_counts()"
      ]
    },
    {
      "cell_type": "code",
      "execution_count": 15,
      "metadata": {
        "colab": {
          "base_uri": "https://localhost:8080/",
          "height": 364
        },
        "id": "Jd6axCNIaT46",
        "outputId": "38742e9c-44bb-4d90-c1a7-b223f0f27ca3"
      },
      "outputs": [
        {
          "output_type": "execute_result",
          "data": {
            "text/plain": [
              "          vendor_id  passenger_count  pickup_longitude  pickup_latitude  \\\n",
              "count  1.458644e+06     1.458644e+06      1.458644e+06     1.458644e+06   \n",
              "mean   1.534950e+00     1.664530e+00     -7.397349e+01     4.075092e+01   \n",
              "std    4.987772e-01     1.314242e+00      7.090186e-02     3.288119e-02   \n",
              "min    1.000000e+00     0.000000e+00     -1.219333e+02     3.435970e+01   \n",
              "25%    1.000000e+00     1.000000e+00     -7.399187e+01     4.073735e+01   \n",
              "50%    2.000000e+00     1.000000e+00     -7.398174e+01     4.075410e+01   \n",
              "75%    2.000000e+00     2.000000e+00     -7.396733e+01     4.076836e+01   \n",
              "max    2.000000e+00     9.000000e+00     -6.133553e+01     5.188108e+01   \n",
              "\n",
              "       dropoff_longitude  dropoff_latitude  trip_duration  pickup_month  \\\n",
              "count       1.458644e+06      1.458644e+06   1.458644e+06  1.458644e+06   \n",
              "mean       -7.397342e+01      4.075180e+01   9.594923e+02  3.516818e+00   \n",
              "std         7.064327e-02      3.589056e-02   5.237432e+03  1.681038e+00   \n",
              "min        -1.219333e+02      3.218114e+01   1.000000e+00  1.000000e+00   \n",
              "25%        -7.399133e+01      4.073588e+01   3.970000e+02  2.000000e+00   \n",
              "50%        -7.397975e+01      4.075452e+01   6.620000e+02  4.000000e+00   \n",
              "75%        -7.396301e+01      4.076981e+01   1.075000e+03  5.000000e+00   \n",
              "max        -6.133553e+01      4.392103e+01   3.526282e+06  6.000000e+00   \n",
              "\n",
              "       dropoff_month   pickup_hour  dropoff_hour  pickup_minute  \\\n",
              "count   1.458644e+06  1.458644e+06  1.458644e+06   1.458644e+06   \n",
              "mean    3.517178e+00  1.360648e+01  1.359890e+01   2.959016e+01   \n",
              "std     1.681217e+00  6.399693e+00  6.483682e+00   1.732471e+01   \n",
              "min     1.000000e+00  0.000000e+00  0.000000e+00   0.000000e+00   \n",
              "25%     2.000000e+00  9.000000e+00  9.000000e+00   1.500000e+01   \n",
              "50%     4.000000e+00  1.400000e+01  1.400000e+01   3.000000e+01   \n",
              "75%     5.000000e+00  1.900000e+01  1.900000e+01   4.500000e+01   \n",
              "max     7.000000e+00  2.300000e+01  2.300000e+01   5.900000e+01   \n",
              "\n",
              "       dropoff_minute  trip_distance  \n",
              "count    1.458644e+06   1.458644e+06  \n",
              "mean     2.962843e+01   2.138057e+00  \n",
              "std      1.742023e+01   2.669749e+00  \n",
              "min      0.000000e+00   0.000000e+00  \n",
              "25%      1.500000e+01   7.654288e-01  \n",
              "50%      3.000000e+01   1.300977e+00  \n",
              "75%      4.500000e+01   2.408026e+00  \n",
              "max      5.900000e+01   7.710660e+02  "
            ],
            "text/html": [
              "\n",
              "  <div id=\"df-fe8c0667-72a9-424f-a780-fbaba02bf004\">\n",
              "    <div class=\"colab-df-container\">\n",
              "      <div>\n",
              "<style scoped>\n",
              "    .dataframe tbody tr th:only-of-type {\n",
              "        vertical-align: middle;\n",
              "    }\n",
              "\n",
              "    .dataframe tbody tr th {\n",
              "        vertical-align: top;\n",
              "    }\n",
              "\n",
              "    .dataframe thead th {\n",
              "        text-align: right;\n",
              "    }\n",
              "</style>\n",
              "<table border=\"1\" class=\"dataframe\">\n",
              "  <thead>\n",
              "    <tr style=\"text-align: right;\">\n",
              "      <th></th>\n",
              "      <th>vendor_id</th>\n",
              "      <th>passenger_count</th>\n",
              "      <th>pickup_longitude</th>\n",
              "      <th>pickup_latitude</th>\n",
              "      <th>dropoff_longitude</th>\n",
              "      <th>dropoff_latitude</th>\n",
              "      <th>trip_duration</th>\n",
              "      <th>pickup_month</th>\n",
              "      <th>dropoff_month</th>\n",
              "      <th>pickup_hour</th>\n",
              "      <th>dropoff_hour</th>\n",
              "      <th>pickup_minute</th>\n",
              "      <th>dropoff_minute</th>\n",
              "      <th>trip_distance</th>\n",
              "    </tr>\n",
              "  </thead>\n",
              "  <tbody>\n",
              "    <tr>\n",
              "      <th>count</th>\n",
              "      <td>1.458644e+06</td>\n",
              "      <td>1.458644e+06</td>\n",
              "      <td>1.458644e+06</td>\n",
              "      <td>1.458644e+06</td>\n",
              "      <td>1.458644e+06</td>\n",
              "      <td>1.458644e+06</td>\n",
              "      <td>1.458644e+06</td>\n",
              "      <td>1.458644e+06</td>\n",
              "      <td>1.458644e+06</td>\n",
              "      <td>1.458644e+06</td>\n",
              "      <td>1.458644e+06</td>\n",
              "      <td>1.458644e+06</td>\n",
              "      <td>1.458644e+06</td>\n",
              "      <td>1.458644e+06</td>\n",
              "    </tr>\n",
              "    <tr>\n",
              "      <th>mean</th>\n",
              "      <td>1.534950e+00</td>\n",
              "      <td>1.664530e+00</td>\n",
              "      <td>-7.397349e+01</td>\n",
              "      <td>4.075092e+01</td>\n",
              "      <td>-7.397342e+01</td>\n",
              "      <td>4.075180e+01</td>\n",
              "      <td>9.594923e+02</td>\n",
              "      <td>3.516818e+00</td>\n",
              "      <td>3.517178e+00</td>\n",
              "      <td>1.360648e+01</td>\n",
              "      <td>1.359890e+01</td>\n",
              "      <td>2.959016e+01</td>\n",
              "      <td>2.962843e+01</td>\n",
              "      <td>2.138057e+00</td>\n",
              "    </tr>\n",
              "    <tr>\n",
              "      <th>std</th>\n",
              "      <td>4.987772e-01</td>\n",
              "      <td>1.314242e+00</td>\n",
              "      <td>7.090186e-02</td>\n",
              "      <td>3.288119e-02</td>\n",
              "      <td>7.064327e-02</td>\n",
              "      <td>3.589056e-02</td>\n",
              "      <td>5.237432e+03</td>\n",
              "      <td>1.681038e+00</td>\n",
              "      <td>1.681217e+00</td>\n",
              "      <td>6.399693e+00</td>\n",
              "      <td>6.483682e+00</td>\n",
              "      <td>1.732471e+01</td>\n",
              "      <td>1.742023e+01</td>\n",
              "      <td>2.669749e+00</td>\n",
              "    </tr>\n",
              "    <tr>\n",
              "      <th>min</th>\n",
              "      <td>1.000000e+00</td>\n",
              "      <td>0.000000e+00</td>\n",
              "      <td>-1.219333e+02</td>\n",
              "      <td>3.435970e+01</td>\n",
              "      <td>-1.219333e+02</td>\n",
              "      <td>3.218114e+01</td>\n",
              "      <td>1.000000e+00</td>\n",
              "      <td>1.000000e+00</td>\n",
              "      <td>1.000000e+00</td>\n",
              "      <td>0.000000e+00</td>\n",
              "      <td>0.000000e+00</td>\n",
              "      <td>0.000000e+00</td>\n",
              "      <td>0.000000e+00</td>\n",
              "      <td>0.000000e+00</td>\n",
              "    </tr>\n",
              "    <tr>\n",
              "      <th>25%</th>\n",
              "      <td>1.000000e+00</td>\n",
              "      <td>1.000000e+00</td>\n",
              "      <td>-7.399187e+01</td>\n",
              "      <td>4.073735e+01</td>\n",
              "      <td>-7.399133e+01</td>\n",
              "      <td>4.073588e+01</td>\n",
              "      <td>3.970000e+02</td>\n",
              "      <td>2.000000e+00</td>\n",
              "      <td>2.000000e+00</td>\n",
              "      <td>9.000000e+00</td>\n",
              "      <td>9.000000e+00</td>\n",
              "      <td>1.500000e+01</td>\n",
              "      <td>1.500000e+01</td>\n",
              "      <td>7.654288e-01</td>\n",
              "    </tr>\n",
              "    <tr>\n",
              "      <th>50%</th>\n",
              "      <td>2.000000e+00</td>\n",
              "      <td>1.000000e+00</td>\n",
              "      <td>-7.398174e+01</td>\n",
              "      <td>4.075410e+01</td>\n",
              "      <td>-7.397975e+01</td>\n",
              "      <td>4.075452e+01</td>\n",
              "      <td>6.620000e+02</td>\n",
              "      <td>4.000000e+00</td>\n",
              "      <td>4.000000e+00</td>\n",
              "      <td>1.400000e+01</td>\n",
              "      <td>1.400000e+01</td>\n",
              "      <td>3.000000e+01</td>\n",
              "      <td>3.000000e+01</td>\n",
              "      <td>1.300977e+00</td>\n",
              "    </tr>\n",
              "    <tr>\n",
              "      <th>75%</th>\n",
              "      <td>2.000000e+00</td>\n",
              "      <td>2.000000e+00</td>\n",
              "      <td>-7.396733e+01</td>\n",
              "      <td>4.076836e+01</td>\n",
              "      <td>-7.396301e+01</td>\n",
              "      <td>4.076981e+01</td>\n",
              "      <td>1.075000e+03</td>\n",
              "      <td>5.000000e+00</td>\n",
              "      <td>5.000000e+00</td>\n",
              "      <td>1.900000e+01</td>\n",
              "      <td>1.900000e+01</td>\n",
              "      <td>4.500000e+01</td>\n",
              "      <td>4.500000e+01</td>\n",
              "      <td>2.408026e+00</td>\n",
              "    </tr>\n",
              "    <tr>\n",
              "      <th>max</th>\n",
              "      <td>2.000000e+00</td>\n",
              "      <td>9.000000e+00</td>\n",
              "      <td>-6.133553e+01</td>\n",
              "      <td>5.188108e+01</td>\n",
              "      <td>-6.133553e+01</td>\n",
              "      <td>4.392103e+01</td>\n",
              "      <td>3.526282e+06</td>\n",
              "      <td>6.000000e+00</td>\n",
              "      <td>7.000000e+00</td>\n",
              "      <td>2.300000e+01</td>\n",
              "      <td>2.300000e+01</td>\n",
              "      <td>5.900000e+01</td>\n",
              "      <td>5.900000e+01</td>\n",
              "      <td>7.710660e+02</td>\n",
              "    </tr>\n",
              "  </tbody>\n",
              "</table>\n",
              "</div>\n",
              "      <button class=\"colab-df-convert\" onclick=\"convertToInteractive('df-fe8c0667-72a9-424f-a780-fbaba02bf004')\"\n",
              "              title=\"Convert this dataframe to an interactive table.\"\n",
              "              style=\"display:none;\">\n",
              "        \n",
              "  <svg xmlns=\"http://www.w3.org/2000/svg\" height=\"24px\"viewBox=\"0 0 24 24\"\n",
              "       width=\"24px\">\n",
              "    <path d=\"M0 0h24v24H0V0z\" fill=\"none\"/>\n",
              "    <path d=\"M18.56 5.44l.94 2.06.94-2.06 2.06-.94-2.06-.94-.94-2.06-.94 2.06-2.06.94zm-11 1L8.5 8.5l.94-2.06 2.06-.94-2.06-.94L8.5 2.5l-.94 2.06-2.06.94zm10 10l.94 2.06.94-2.06 2.06-.94-2.06-.94-.94-2.06-.94 2.06-2.06.94z\"/><path d=\"M17.41 7.96l-1.37-1.37c-.4-.4-.92-.59-1.43-.59-.52 0-1.04.2-1.43.59L10.3 9.45l-7.72 7.72c-.78.78-.78 2.05 0 2.83L4 21.41c.39.39.9.59 1.41.59.51 0 1.02-.2 1.41-.59l7.78-7.78 2.81-2.81c.8-.78.8-2.07 0-2.86zM5.41 20L4 18.59l7.72-7.72 1.47 1.35L5.41 20z\"/>\n",
              "  </svg>\n",
              "      </button>\n",
              "      \n",
              "  <style>\n",
              "    .colab-df-container {\n",
              "      display:flex;\n",
              "      flex-wrap:wrap;\n",
              "      gap: 12px;\n",
              "    }\n",
              "\n",
              "    .colab-df-convert {\n",
              "      background-color: #E8F0FE;\n",
              "      border: none;\n",
              "      border-radius: 50%;\n",
              "      cursor: pointer;\n",
              "      display: none;\n",
              "      fill: #1967D2;\n",
              "      height: 32px;\n",
              "      padding: 0 0 0 0;\n",
              "      width: 32px;\n",
              "    }\n",
              "\n",
              "    .colab-df-convert:hover {\n",
              "      background-color: #E2EBFA;\n",
              "      box-shadow: 0px 1px 2px rgba(60, 64, 67, 0.3), 0px 1px 3px 1px rgba(60, 64, 67, 0.15);\n",
              "      fill: #174EA6;\n",
              "    }\n",
              "\n",
              "    [theme=dark] .colab-df-convert {\n",
              "      background-color: #3B4455;\n",
              "      fill: #D2E3FC;\n",
              "    }\n",
              "\n",
              "    [theme=dark] .colab-df-convert:hover {\n",
              "      background-color: #434B5C;\n",
              "      box-shadow: 0px 1px 3px 1px rgba(0, 0, 0, 0.15);\n",
              "      filter: drop-shadow(0px 1px 2px rgba(0, 0, 0, 0.3));\n",
              "      fill: #FFFFFF;\n",
              "    }\n",
              "  </style>\n",
              "\n",
              "      <script>\n",
              "        const buttonEl =\n",
              "          document.querySelector('#df-fe8c0667-72a9-424f-a780-fbaba02bf004 button.colab-df-convert');\n",
              "        buttonEl.style.display =\n",
              "          google.colab.kernel.accessAllowed ? 'block' : 'none';\n",
              "\n",
              "        async function convertToInteractive(key) {\n",
              "          const element = document.querySelector('#df-fe8c0667-72a9-424f-a780-fbaba02bf004');\n",
              "          const dataTable =\n",
              "            await google.colab.kernel.invokeFunction('convertToInteractive',\n",
              "                                                     [key], {});\n",
              "          if (!dataTable) return;\n",
              "\n",
              "          const docLinkHtml = 'Like what you see? Visit the ' +\n",
              "            '<a target=\"_blank\" href=https://colab.research.google.com/notebooks/data_table.ipynb>data table notebook</a>'\n",
              "            + ' to learn more about interactive tables.';\n",
              "          element.innerHTML = '';\n",
              "          dataTable['output_type'] = 'display_data';\n",
              "          await google.colab.output.renderOutput(dataTable, element);\n",
              "          const docLink = document.createElement('div');\n",
              "          docLink.innerHTML = docLinkHtml;\n",
              "          element.appendChild(docLink);\n",
              "        }\n",
              "      </script>\n",
              "    </div>\n",
              "  </div>\n",
              "  "
            ]
          },
          "metadata": {},
          "execution_count": 15
        }
      ],
      "source": [
        "df.describe()"
      ]
    },
    {
      "cell_type": "markdown",
      "metadata": {
        "id": "04o6yvi2Jk0N"
      },
      "source": [
        "there are some trip having trip distance and trip duration equal to zero and some have very large value."
      ]
    },
    {
      "cell_type": "markdown",
      "metadata": {
        "id": "UGvrHVPBzDaC"
      },
      "source": [
        "## Exploratory data analysis"
      ]
    },
    {
      "cell_type": "code",
      "execution_count": 16,
      "metadata": {
        "colab": {
          "base_uri": "https://localhost:8080/"
        },
        "id": "KFRF0OifzVEX",
        "outputId": "0dcb8a5f-c61c-47dc-e0b4-2eae918fe9f8"
      },
      "outputs": [
        {
          "output_type": "execute_result",
          "data": {
            "text/plain": [
              "Index(['id', 'vendor_id', 'pickup_datetime', 'dropoff_datetime',\n",
              "       'passenger_count', 'pickup_longitude', 'pickup_latitude',\n",
              "       'dropoff_longitude', 'dropoff_latitude', 'store_and_fwd_flag',\n",
              "       'trip_duration', 'pickup_day', 'dropoff_day', 'pickup_month',\n",
              "       'dropoff_month', 'pickup_hour', 'dropoff_hour', 'pickup_minute',\n",
              "       'dropoff_minute', 'trip_distance'],\n",
              "      dtype='object')"
            ]
          },
          "metadata": {},
          "execution_count": 16
        }
      ],
      "source": [
        "# list of the columns\n",
        "df.columns"
      ]
    },
    {
      "cell_type": "code",
      "execution_count": 17,
      "metadata": {
        "colab": {
          "base_uri": "https://localhost:8080/"
        },
        "id": "FZOFWXftav8z",
        "outputId": "c18986ec-f6cc-42a0-8f97-561b7bfe780a"
      },
      "outputs": [
        {
          "output_type": "stream",
          "name": "stdout",
          "text": [
            "<class 'pandas.core.frame.DataFrame'>\n",
            "RangeIndex: 1458644 entries, 0 to 1458643\n",
            "Data columns (total 20 columns):\n",
            " #   Column              Non-Null Count    Dtype         \n",
            "---  ------              --------------    -----         \n",
            " 0   id                  1458644 non-null  object        \n",
            " 1   vendor_id           1458644 non-null  int64         \n",
            " 2   pickup_datetime     1458644 non-null  datetime64[ns]\n",
            " 3   dropoff_datetime    1458644 non-null  datetime64[ns]\n",
            " 4   passenger_count     1458644 non-null  int64         \n",
            " 5   pickup_longitude    1458644 non-null  float64       \n",
            " 6   pickup_latitude     1458644 non-null  float64       \n",
            " 7   dropoff_longitude   1458644 non-null  float64       \n",
            " 8   dropoff_latitude    1458644 non-null  float64       \n",
            " 9   store_and_fwd_flag  1458644 non-null  object        \n",
            " 10  trip_duration       1458644 non-null  int64         \n",
            " 11  pickup_day          1458644 non-null  object        \n",
            " 12  dropoff_day         1458644 non-null  object        \n",
            " 13  pickup_month        1458644 non-null  int64         \n",
            " 14  dropoff_month       1458644 non-null  int64         \n",
            " 15  pickup_hour         1458644 non-null  int64         \n",
            " 16  dropoff_hour        1458644 non-null  int64         \n",
            " 17  pickup_minute       1458644 non-null  int64         \n",
            " 18  dropoff_minute      1458644 non-null  int64         \n",
            " 19  trip_distance       1458644 non-null  float64       \n",
            "dtypes: datetime64[ns](2), float64(5), int64(9), object(4)\n",
            "memory usage: 222.6+ MB\n"
          ]
        }
      ],
      "source": [
        "df.info()"
      ]
    },
    {
      "cell_type": "markdown",
      "metadata": {
        "id": "O_X0AiaNNEty"
      },
      "source": [
        "**Univariate analysis**"
      ]
    },
    {
      "cell_type": "markdown",
      "metadata": {
        "id": "7GQixkfO7ijH"
      },
      "source": [
        "**1.Vendor_id :** Different vendors who provide taxi service.\n"
      ]
    },
    {
      "cell_type": "code",
      "execution_count": 18,
      "metadata": {
        "colab": {
          "base_uri": "https://localhost:8080/"
        },
        "id": "ta67hpyDykTa",
        "outputId": "897bf611-3657-40e2-f8ec-0ca4406f0b13"
      },
      "outputs": [
        {
          "output_type": "execute_result",
          "data": {
            "text/plain": [
              "2    780302\n",
              "1    678342\n",
              "Name: vendor_id, dtype: int64"
            ]
          },
          "metadata": {},
          "execution_count": 18
        }
      ],
      "source": [
        "# Counting the unique value of each feature\n",
        "df['vendor_id'].value_counts()"
      ]
    },
    {
      "cell_type": "code",
      "execution_count": 19,
      "metadata": {
        "colab": {
          "base_uri": "https://localhost:8080/",
          "height": 368
        },
        "id": "tVCpUQxZNI3f",
        "outputId": "2519045a-fa10-4d51-ed35-b04b723b4644"
      },
      "outputs": [
        {
          "output_type": "stream",
          "name": "stderr",
          "text": [
            "/usr/local/lib/python3.8/dist-packages/seaborn/_decorators.py:36: FutureWarning: Pass the following variable as a keyword arg: x. From version 0.12, the only valid positional argument will be `data`, and passing other arguments without an explicit keyword will result in an error or misinterpretation.\n",
            "  warnings.warn(\n"
          ]
        },
        {
          "output_type": "execute_result",
          "data": {
            "text/plain": [
              "Text(0.5, 1.0, 'Vendor_id')"
            ]
          },
          "metadata": {},
          "execution_count": 19
        },
        {
          "output_type": "display_data",
          "data": {
            "text/plain": [
              "<Figure size 432x288 with 1 Axes>"
            ],
            "image/png": "[encoded data removed]"
          },
          "metadata": {}
        }
      ],
      "source": [
        "# vendor_id\n",
        "sns.set_style('whitegrid')\n",
        "sns.countplot(df['vendor_id'])\n",
        "plt.title(\"Vendor_id\")"
      ]
    },
    {
      "cell_type": "markdown",
      "metadata": {
        "id": "OHAjnkwB9A2B"
      },
      "source": [
        "**observation :** there are two vendors. vendor having vendor_id 2 has maximum number of trip."
      ]
    },
    {
      "cell_type": "markdown",
      "metadata": {
        "id": "mcZCNlRR9WrI"
      },
      "source": [
        "**2. passenger count**\n",
        "-Total number of pessangers in taxi during trip."
      ]
    },
    {
      "cell_type": "code",
      "execution_count": 20,
      "metadata": {
        "colab": {
          "base_uri": "https://localhost:8080/"
        },
        "id": "idwZneQgzvvm",
        "outputId": "ecd4ef4c-eafc-49a3-ddfb-fc8d210eafe1"
      },
      "outputs": [
        {
          "output_type": "execute_result",
          "data": {
            "text/plain": [
              "1    1033540\n",
              "2     210318\n",
              "5      78088\n",
              "3      59896\n",
              "6      48333\n",
              "4      28404\n",
              "0         60\n",
              "7          3\n",
              "9          1\n",
              "8          1\n",
              "Name: passenger_count, dtype: int64"
            ]
          },
          "metadata": {},
          "execution_count": 20
        }
      ],
      "source": [
        "df['passenger_count'].value_counts()"
      ]
    },
    {
      "cell_type": "code",
      "execution_count": 21,
      "metadata": {
        "colab": {
          "base_uri": "https://localhost:8080/"
        },
        "id": "pXOZxIZ9bDm7",
        "outputId": "490dcf32-6be3-4147-c5ed-fde3f5dc0a32"
      },
      "outputs": [
        {
          "output_type": "stream",
          "name": "stdout",
          "text": [
            "(1458644, 20)\n"
          ]
        }
      ],
      "source": [
        "print(df.shape)"
      ]
    },
    {
      "cell_type": "code",
      "execution_count": 22,
      "metadata": {
        "colab": {
          "base_uri": "https://localhost:8080/",
          "height": 363
        },
        "id": "GGa4KwNLO0ib",
        "outputId": "b5550e14-8132-49e2-fd23-293c1cd8cc70"
      },
      "outputs": [
        {
          "output_type": "stream",
          "name": "stderr",
          "text": [
            "/usr/local/lib/python3.8/dist-packages/seaborn/_decorators.py:36: FutureWarning: Pass the following variable as a keyword arg: x. From version 0.12, the only valid positional argument will be `data`, and passing other arguments without an explicit keyword will result in an error or misinterpretation.\n",
            "  warnings.warn(\n"
          ]
        },
        {
          "output_type": "execute_result",
          "data": {
            "text/plain": [
              "<matplotlib.axes._subplots.AxesSubplot at 0x7fabe27cc100>"
            ]
          },
          "metadata": {},
          "execution_count": 22
        },
        {
          "output_type": "display_data",
          "data": {
            "text/plain": [
              "<Figure size 432x288 with 1 Axes>"
            ],
            "image/png": "[encoded data removed]"
          },
          "metadata": {}
        }
      ],
      "source": [
        "# passenger_count\n",
        "sns.countplot(df['passenger_count'])"
      ]
    },
    {
      "cell_type": "markdown",
      "metadata": {
        "id": "W9S2WnR4bP4j"
      },
      "source": [
        "**Observation :** \n",
        "<br>(1) 60 trip contain zero passenger, 3 times 7 and 1 times 8 and 9 passengers.\n",
        "<br>(2) AS per NYC taxi cab, the maximum number allowed are 5 adult and 1 child, so total 6 passeger, so rest are outliers.\n",
        "<br>(3) There 60 trips with zero pessanger, so it might be mistaken so it can be treated as outliers."
      ]
    },
    {
      "cell_type": "code",
      "execution_count": 23,
      "metadata": {
        "id": "ytod87dtcA_A"
      },
      "outputs": [],
      "source": [
        "#new_data1 = new_data1[(new_data1['passenger_count'] <= 6) & (new_data1['passenger_count'] > 0) ]"
      ]
    },
    {
      "cell_type": "markdown",
      "metadata": {
        "id": "6r4QFHXqYaU8"
      },
      "source": [
        "**3. store_and_fwd_flag :** The taxi that are storing the data in local memory and then sending to the server (Y) and the taxi that are directly sending to the server(no)."
      ]
    },
    {
      "cell_type": "code",
      "execution_count": 24,
      "metadata": {
        "colab": {
          "base_uri": "https://localhost:8080/"
        },
        "id": "tmSJaiZTLuyZ",
        "outputId": "e5da04b2-c6d7-4c6e-ee31-116e49053a12"
      },
      "outputs": [
        {
          "output_type": "execute_result",
          "data": {
            "text/plain": [
              "N    1450599\n",
              "Y       8045\n",
              "Name: store_and_fwd_flag, dtype: int64"
            ]
          },
          "metadata": {},
          "execution_count": 24
        }
      ],
      "source": [
        "df['store_and_fwd_flag'].value_counts()"
      ]
    },
    {
      "cell_type": "code",
      "execution_count": 25,
      "metadata": {
        "colab": {
          "base_uri": "https://localhost:8080/",
          "height": 363
        },
        "id": "Ob0OeMV1SM94",
        "outputId": "28685523-dac2-4940-dce2-b7f265a8684c"
      },
      "outputs": [
        {
          "output_type": "stream",
          "name": "stderr",
          "text": [
            "/usr/local/lib/python3.8/dist-packages/seaborn/_decorators.py:36: FutureWarning: Pass the following variable as a keyword arg: x. From version 0.12, the only valid positional argument will be `data`, and passing other arguments without an explicit keyword will result in an error or misinterpretation.\n",
            "  warnings.warn(\n"
          ]
        },
        {
          "output_type": "execute_result",
          "data": {
            "text/plain": [
              "<matplotlib.axes._subplots.AxesSubplot at 0x7fabe17da910>"
            ]
          },
          "metadata": {},
          "execution_count": 25
        },
        {
          "output_type": "display_data",
          "data": {
            "text/plain": [
              "<Figure size 432x288 with 1 Axes>"
            ],
            "image/png": "[encoded data removed]"
          },
          "metadata": {}
        }
      ],
      "source": [
        "#store_and_fwd_flag\n",
        "sns.countplot(df['store_and_fwd_flag'])"
      ]
    },
    {
      "cell_type": "markdown",
      "metadata": {
        "id": "cfhg-mKWdNQZ"
      },
      "source": [
        "**4. Trip_duration**\n"
      ]
    },
    {
      "cell_type": "code",
      "execution_count": 26,
      "metadata": {
        "colab": {
          "base_uri": "https://localhost:8080/",
          "height": 363
        },
        "id": "EZedkTarhqrQ",
        "outputId": "d21a8f42-ca3a-478e-e7f2-98d5df5f8d6f"
      },
      "outputs": [
        {
          "output_type": "stream",
          "name": "stderr",
          "text": [
            "/usr/local/lib/python3.8/dist-packages/seaborn/distributions.py:2619: FutureWarning: `distplot` is a deprecated function and will be removed in a future version. Please adapt your code to use either `displot` (a figure-level function with similar flexibility) or `histplot` (an axes-level function for histograms).\n",
            "  warnings.warn(msg, FutureWarning)\n"
          ]
        },
        {
          "output_type": "execute_result",
          "data": {
            "text/plain": [
              "<matplotlib.axes._subplots.AxesSubplot at 0x7fabe241b490>"
            ]
          },
          "metadata": {},
          "execution_count": 26
        },
        {
          "output_type": "display_data",
          "data": {
            "text/plain": [
              "<Figure size 432x288 with 1 Axes>"
            ],
            "image/png": "[encoded data removed]"
          },
          "metadata": {}
        }
      ],
      "source": [
        "sns.distplot(df['trip_duration'], kde = True)"
      ]
    },
    {
      "cell_type": "code",
      "execution_count": 27,
      "metadata": {
        "colab": {
          "base_uri": "https://localhost:8080/"
        },
        "id": "qKEeKxvKZAI-",
        "outputId": "2c2fa1a5-93bb-4513-e69e-0a955fbe6c80"
      },
      "outputs": [
        {
          "output_type": "stream",
          "name": "stdout",
          "text": [
            "count    1458644.000\n",
            "mean         959.492\n",
            "std         5237.432\n",
            "min            1.000\n",
            "25%          397.000\n",
            "50%          662.000\n",
            "75%         1075.000\n",
            "max      3526282.000\n",
            "Name: trip_duration, dtype: float64\n"
          ]
        }
      ],
      "source": [
        "print(round(df['trip_duration'].describe(),3))"
      ]
    },
    {
      "cell_type": "code",
      "execution_count": 28,
      "metadata": {
        "colab": {
          "base_uri": "https://localhost:8080/"
        },
        "id": "zUczFRBaVqoV",
        "outputId": "d8ea08b8-a0f4-4f71-d7d1-a33e9837c377"
      },
      "outputs": [
        {
          "output_type": "stream",
          "name": "stdout",
          "text": [
            "the 0th percentile value is  1.0\n",
            "the 10th percentile value is  245.0\n",
            "the 20th percentile value is  348.0\n",
            "the 30th percentile value is  446.0\n",
            "the 40th percentile value is  548.0\n",
            "the 50th percentile value is  662.0\n",
            "the 60th percentile value is  798.0\n",
            "the 70th percentile value is  968.0\n",
            "the 80th percentile value is  1208.0\n",
            "the 90th percentile value is  1634.0\n",
            "the 100th percentile value is  3526282.0\n"
          ]
        }
      ],
      "source": [
        "# there are wide range in the data lets look it percentile wize\n",
        "for i in range(0,101,10):\n",
        "  print(f'the {i}th percentile value is ',df['trip_duration'].quantile(i/100))"
      ]
    },
    {
      "cell_type": "code",
      "execution_count": 29,
      "metadata": {
        "colab": {
          "base_uri": "https://localhost:8080/"
        },
        "id": "zoUkTIPcWyDI",
        "outputId": "e43d1c54-94a3-421a-a438-7f5a4542c71d"
      },
      "outputs": [
        {
          "output_type": "stream",
          "name": "stdout",
          "text": [
            "the 90th percentile value is  1634.0\n",
            "the 91th percentile value is  1703.0\n",
            "the 92th percentile value is  1780.0\n",
            "the 93th percentile value is  1869.0\n",
            "the 94th percentile value is  1975.0\n",
            "the 95th percentile value is  2104.0\n",
            "the 96th percentile value is  2273.0\n",
            "the 97th percentile value is  2497.0\n",
            "the 98th percentile value is  2829.0\n",
            "the 99th percentile value is  3440.0\n",
            "the 100th percentile value is  3526282.0\n"
          ]
        }
      ],
      "source": [
        "## it can oberseved that the range in 90th to 100th percentile is very high, so lets get deep into that\n",
        "for i in range(90,101,1):\n",
        "  print(f'the {i}th percentile value is ',df['trip_duration'].quantile(i/100))"
      ]
    },
    {
      "cell_type": "code",
      "execution_count": 30,
      "metadata": {
        "colab": {
          "base_uri": "https://localhost:8080/"
        },
        "id": "uPKBqkISZffC",
        "outputId": "bdba04fb-b4f5-4dde-edb9-b97cc3c53f44"
      },
      "outputs": [
        {
          "output_type": "execute_result",
          "data": {
            "text/plain": [
              "(4, 20)"
            ]
          },
          "metadata": {},
          "execution_count": 30
        }
      ],
      "source": [
        "## In a day maximum 24 hours i.e, 86400 seconds occurs, so lets see the trips having trip_duration more than a day\n",
        "\n",
        "df[df['trip_duration'] > 86400].shape\n",
        "\n",
        "## so total 4 trips which took more than a day. "
      ]
    },
    {
      "cell_type": "markdown",
      "metadata": {
        "id": "H7-I6mzVcB7U"
      },
      "source": [
        "**observation** \n",
        "<br> (1) According to  NYC Taxi & Limousine Commision Regulations the maximum allowed trip duration in a 24 hour interval is 12 hours so any value greater than 43200 sec is an outlier.\n",
        "<br>(2) Since mean > median, the curve is right skewed.\n",
        "<br>(3) there are 4 trips having duration more than a day, it could be the weekend long drives or an outlier.\n",
        "<br> (4) There is a huge gap in the 99th percentile value and the 100th percentile value."
      ]
    },
    {
      "cell_type": "markdown",
      "metadata": {
        "id": "doEOSipCdR63"
      },
      "source": [
        "**5. Trip distance**"
      ]
    },
    {
      "cell_type": "code",
      "execution_count": 31,
      "metadata": {
        "colab": {
          "base_uri": "https://localhost:8080/",
          "height": 352
        },
        "id": "PkEaBr51dQv8",
        "outputId": "7326263b-defa-4727-c275-412030577f50"
      },
      "outputs": [
        {
          "output_type": "stream",
          "name": "stderr",
          "text": [
            "/usr/local/lib/python3.8/dist-packages/seaborn/distributions.py:2619: FutureWarning: `distplot` is a deprecated function and will be removed in a future version. Please adapt your code to use either `displot` (a figure-level function with similar flexibility) or `histplot` (an axes-level function for histograms).\n",
            "  warnings.warn(msg, FutureWarning)\n"
          ]
        },
        {
          "output_type": "execute_result",
          "data": {
            "text/plain": [
              "<matplotlib.axes._subplots.AxesSubplot at 0x7fabe27d5fa0>"
            ]
          },
          "metadata": {},
          "execution_count": 31
        },
        {
          "output_type": "display_data",
          "data": {
            "text/plain": [
              "<Figure size 432x288 with 1 Axes>"
            ],
            "image/png": "[encoded data removed]"
          },
          "metadata": {}
        }
      ],
      "source": [
        "sns.distplot(df['trip_distance'], kde = True)"
      ]
    },
    {
      "cell_type": "code",
      "execution_count": 32,
      "metadata": {
        "colab": {
          "base_uri": "https://localhost:8080/"
        },
        "id": "wNRuReFjhXu1",
        "outputId": "17ecc6bd-a1cd-4d24-e1ca-a74ce98419b9"
      },
      "outputs": [
        {
          "output_type": "stream",
          "name": "stdout",
          "text": [
            "count    1458644.000\n",
            "mean           2.138\n",
            "std            2.670\n",
            "min            0.000\n",
            "25%            0.765\n",
            "50%            1.301\n",
            "75%            2.408\n",
            "max          771.066\n",
            "Name: trip_distance, dtype: float64\n"
          ]
        }
      ],
      "source": [
        "print(round(df['trip_distance'].describe(),3))"
      ]
    },
    {
      "cell_type": "code",
      "execution_count": 33,
      "metadata": {
        "colab": {
          "base_uri": "https://localhost:8080/"
        },
        "id": "0AMrcnsXgckW",
        "outputId": "68080bfe-9c85-4127-a604-cd72dff3844c"
      },
      "outputs": [
        {
          "output_type": "stream",
          "name": "stdout",
          "text": [
            "the 0th percentile value is  0.0\n",
            "the 10th percentile value is  0.49242891407622\n",
            "the 20th percentile value is  0.6770481928125682\n",
            "the 30th percentile value is  0.8574249312571905\n",
            "the 40th percentile value is  1.0602718213609397\n",
            "the 50th percentile value is  1.3009773489187393\n",
            "the 60th percentile value is  1.61399677135551\n",
            "the 70th percentile value is  2.073466523960667\n",
            "the 80th percentile value is  2.870470532237082\n",
            "the 90th percentile value is  4.741588132608124\n",
            "the 100th percentile value is  771.0659931138583\n"
          ]
        }
      ],
      "source": [
        "# there are wide range in the data lets look it percentile wize\n",
        "for i in range(0,101,10):\n",
        "  print(f'the {i}th percentile value is ',df['trip_distance'].quantile(i/100))"
      ]
    },
    {
      "cell_type": "code",
      "execution_count": 34,
      "metadata": {
        "colab": {
          "base_uri": "https://localhost:8080/"
        },
        "id": "fxGCG_fFgcnV",
        "outputId": "be3d07b5-5e61-4db0-9536-0189e14d5487"
      },
      "outputs": [
        {
          "output_type": "stream",
          "name": "stdout",
          "text": [
            "the 90th percentile value is  4.741588132608124\n",
            "the 91th percentile value is  5.129879727735619\n",
            "the 92th percentile value is  5.522844981875209\n",
            "the 93th percentile value is  5.8766081091538656\n",
            "the 94th percentile value is  6.264551399812679\n",
            "the 95th percentile value is  6.847088498922473\n",
            "the 96th percentile value is  7.963432727462154\n",
            "the 97th percentile value is  9.579550111890612\n",
            "the 98th percentile value is  12.035627296389581\n",
            "the 99th percentile value is  12.916783802753425\n",
            "the 100th percentile value is  771.0659931138583\n"
          ]
        }
      ],
      "source": [
        "# The 90th percentile value is 7.631 km, however the 100th percentile value is 1240.910 km so lets dive into the details\n",
        "for i in range(90,101,1):\n",
        "  print(f'the {i}th percentile value is ',df['trip_distance'].quantile(i/100))"
      ]
    },
    {
      "cell_type": "code",
      "execution_count": 35,
      "metadata": {
        "colab": {
          "base_uri": "https://localhost:8080/"
        },
        "id": "dcPtdMTyi7kx",
        "outputId": "d639b2c4-d264-46d2-f38f-d4b43dfacd1e"
      },
      "outputs": [
        {
          "output_type": "stream",
          "name": "stdout",
          "text": [
            "the 99.0th percentile value is  12.916783802753425\n",
            "the 99.1th percentile value is  12.999197615118106\n",
            "the 99.2th percentile value is  13.080806174793503\n",
            "the 99.3th percentile value is  13.164786156413818\n",
            "the 99.4th percentile value is  13.276180042956625\n",
            "the 99.5th percentile value is  13.395148176560276\n",
            "the 99.6th percentile value is  13.565917872909674\n",
            "the 99.7th percentile value is  13.834822134823334\n",
            "the 99.8th percentile value is  14.22310478956466\n",
            "the 99.9th percentile value is  15.3893717338993\n",
            "the 100.0th percentile value is  771.0659931138583\n"
          ]
        }
      ],
      "source": [
        "for i in range(990,1001,1):\n",
        "  print(f'the {i/10}th percentile value is ',df['trip_distance'].quantile(i/1000))"
      ]
    },
    {
      "cell_type": "markdown",
      "metadata": {
        "id": "OfFyRkUYhOyF"
      },
      "source": [
        "**observation**<br> (1) There are some values with zero trip distance it might be corresponding to the one second time duration.\n",
        "<br> (2) There are much difference between 99.9th percentile and 100th percentile value is significant, so we can treat the value above 99.9 percentile as outlier.\n",
        "<br> (3) mean distance > median so the curve will be similat to the trip_duration curve."
      ]
    },
    {
      "cell_type": "markdown",
      "metadata": {
        "id": "-bso3o5Tj1qD"
      },
      "source": [
        "**6.Pickup and dropoff day**"
      ]
    },
    {
      "cell_type": "code",
      "execution_count": 36,
      "metadata": {
        "colab": {
          "base_uri": "https://localhost:8080/",
          "height": 352
        },
        "id": "_SnvYWj_mZ9j",
        "outputId": "df810da6-1ded-4ab4-813b-254657094507"
      },
      "outputs": [
        {
          "output_type": "stream",
          "name": "stderr",
          "text": [
            "/usr/local/lib/python3.8/dist-packages/seaborn/_decorators.py:36: FutureWarning: Pass the following variable as a keyword arg: x. From version 0.12, the only valid positional argument will be `data`, and passing other arguments without an explicit keyword will result in an error or misinterpretation.\n",
            "  warnings.warn(\n"
          ]
        },
        {
          "output_type": "execute_result",
          "data": {
            "text/plain": [
              "<matplotlib.axes._subplots.AxesSubplot at 0x7fabe25de460>"
            ]
          },
          "metadata": {},
          "execution_count": 36
        },
        {
          "output_type": "display_data",
          "data": {
            "text/plain": [
              "<Figure size 432x288 with 1 Axes>"
            ],
            "image/png": "[encoded data removed]"
          },
          "metadata": {}
        }
      ],
      "source": [
        "# pickup day\n",
        "sns.countplot(df['pickup_day'])"
      ]
    },
    {
      "cell_type": "code",
      "execution_count": 37,
      "metadata": {
        "colab": {
          "base_uri": "https://localhost:8080/",
          "height": 352
        },
        "id": "3nOPFU0VmsjU",
        "outputId": "125ea64e-b845-4af8-dfe5-56c498a36e8c"
      },
      "outputs": [
        {
          "output_type": "stream",
          "name": "stderr",
          "text": [
            "/usr/local/lib/python3.8/dist-packages/seaborn/_decorators.py:36: FutureWarning: Pass the following variable as a keyword arg: x. From version 0.12, the only valid positional argument will be `data`, and passing other arguments without an explicit keyword will result in an error or misinterpretation.\n",
            "  warnings.warn(\n"
          ]
        },
        {
          "output_type": "execute_result",
          "data": {
            "text/plain": [
              "<matplotlib.axes._subplots.AxesSubplot at 0x7fabf05974f0>"
            ]
          },
          "metadata": {},
          "execution_count": 37
        },
        {
          "output_type": "display_data",
          "data": {
            "text/plain": [
              "<Figure size 432x288 with 1 Axes>"
            ],
            "image/png": "[encoded data removed]"
          },
          "metadata": {}
        }
      ],
      "source": [
        "sns.countplot(df['dropoff_day'])"
      ]
    },
    {
      "cell_type": "markdown",
      "metadata": {
        "id": "zjDsyn6MpBU7"
      },
      "source": [
        "<br> both  the graph are similar, friday and saturday have maximum number of trips."
      ]
    },
    {
      "cell_type": "markdown",
      "metadata": {
        "id": "YhSozjjRkJKE"
      },
      "source": [
        "**7. pickup and dropoff month**"
      ]
    },
    {
      "cell_type": "code",
      "execution_count": 38,
      "metadata": {
        "colab": {
          "base_uri": "https://localhost:8080/",
          "height": 352
        },
        "id": "kDE7dIxamwH6",
        "outputId": "52e7d1cf-c592-4c63-ba88-eb273fd522e8"
      },
      "outputs": [
        {
          "output_type": "stream",
          "name": "stderr",
          "text": [
            "/usr/local/lib/python3.8/dist-packages/seaborn/_decorators.py:36: FutureWarning: Pass the following variable as a keyword arg: x. From version 0.12, the only valid positional argument will be `data`, and passing other arguments without an explicit keyword will result in an error or misinterpretation.\n",
            "  warnings.warn(\n"
          ]
        },
        {
          "output_type": "execute_result",
          "data": {
            "text/plain": [
              "<matplotlib.axes._subplots.AxesSubplot at 0x7fabdd0d05e0>"
            ]
          },
          "metadata": {},
          "execution_count": 38
        },
        {
          "output_type": "display_data",
          "data": {
            "text/plain": [
              "<Figure size 432x288 with 1 Axes>"
            ],
            "image/png": "[encoded data removed]"
          },
          "metadata": {}
        }
      ],
      "source": [
        "sns.countplot(df['pickup_month'])"
      ]
    },
    {
      "cell_type": "code",
      "execution_count": 39,
      "metadata": {
        "colab": {
          "base_uri": "https://localhost:8080/",
          "height": 352
        },
        "id": "a8D4eK0zm036",
        "outputId": "7f4f0c08-dc9f-4b26-caf5-2ddf92ec832a"
      },
      "outputs": [
        {
          "output_type": "stream",
          "name": "stderr",
          "text": [
            "/usr/local/lib/python3.8/dist-packages/seaborn/_decorators.py:36: FutureWarning: Pass the following variable as a keyword arg: x. From version 0.12, the only valid positional argument will be `data`, and passing other arguments without an explicit keyword will result in an error or misinterpretation.\n",
            "  warnings.warn(\n"
          ]
        },
        {
          "output_type": "execute_result",
          "data": {
            "text/plain": [
              "<matplotlib.axes._subplots.AxesSubplot at 0x7fabe25f6700>"
            ]
          },
          "metadata": {},
          "execution_count": 39
        },
        {
          "output_type": "display_data",
          "data": {
            "text/plain": [
              "<Figure size 432x288 with 1 Axes>"
            ],
            "image/png": "[encoded data removed]"
          },
          "metadata": {}
        }
      ],
      "source": [
        "sns.countplot(df['dropoff_month'])"
      ]
    },
    {
      "cell_type": "markdown",
      "metadata": {
        "id": "uVf7mjTIpjCY"
      },
      "source": [
        "<br> pickup and dropoff month both have similar graph."
      ]
    },
    {
      "cell_type": "markdown",
      "metadata": {
        "id": "cBn0GysrkWPu"
      },
      "source": [
        "**8.Longitude and latitude**\n",
        "\n",
        "<br> New York is bounded by the location cordinates(lat,long) - (40.5774, -74.15) & (40.9176,-73.7004), however there are many coordinates which lie outside the bounded region for pickups and dropoffs"
      ]
    },
    {
      "cell_type": "code",
      "execution_count": 40,
      "metadata": {
        "id": "JD6p6elO1Yoj"
      },
      "outputs": [],
      "source": [
        "#pip install folium "
      ]
    },
    {
      "cell_type": "markdown",
      "metadata": {
        "id": "PbQGDZEK4b_6"
      },
      "source": [
        "**Pickup Location**"
      ]
    },
    {
      "cell_type": "code",
      "execution_count": 41,
      "metadata": {
        "colab": {
          "base_uri": "https://localhost:8080/",
          "height": 88
        },
        "id": "pg6OCP544ahv",
        "outputId": "ec01117c-b744-4b5b-e364-3963de2321cb"
      },
      "outputs": [
        {
          "output_type": "execute_result",
          "data": {
            "text/plain": [
              "\"outlier_locations = df[((df.pickup_longitude <= -74.15) | (df.pickup_latitude <= 40.5774)|                    (df.pickup_longitude >= -73.7004) | (df.pickup_latitude >= 40.9176))]\\n\\nmap_osm = folium.Map(location=[40.734695, -73.990372], tiles='Stamen Toner')\\n\\n# we will spot only first 100 outliers on the map, plotting all the outliers will take more time\\nsample_locations = outlier_locations.head(10000)\\nfor i,j in sample_locations.iterrows():\\n    if int(j['pickup_latitude']) != 0:\\n        folium.Marker(list((j['pickup_latitude'],j['pickup_longitude']))).add_to(map_osm)\\nmap_osm\""
            ],
            "application/vnd.google.colaboratory.intrinsic+json": {
              "type": "string"
            }
          },
          "metadata": {},
          "execution_count": 41
        }
      ],
      "source": [
        "'''outlier_locations = df[((df.pickup_longitude <= -74.15) | (df.pickup_latitude <= 40.5774)| \\\n",
        "                   (df.pickup_longitude >= -73.7004) | (df.pickup_latitude >= 40.9176))]\n",
        "\n",
        "map_osm = folium.Map(location=[40.734695, -73.990372], tiles='Stamen Toner')\n",
        "\n",
        "# we will spot only first 100 outliers on the map, plotting all the outliers will take more time\n",
        "sample_locations = outlier_locations.head(10000)\n",
        "for i,j in sample_locations.iterrows():\n",
        "    if int(j['pickup_latitude']) != 0:\n",
        "        folium.Marker(list((j['pickup_latitude'],j['pickup_longitude']))).add_to(map_osm)\n",
        "map_osm'''"
      ]
    },
    {
      "cell_type": "code",
      "execution_count": null,
      "metadata": {
        "id": "xrw4XaoI4ak6"
      },
      "outputs": [],
      "source": []
    },
    {
      "cell_type": "markdown",
      "metadata": {
        "id": "GpxF4GAU5MwB"
      },
      "source": [
        "**observation**\n",
        "<br> (1) There are many pickups outside the newyork city as it can be seen, infact some pickup locations are in middle of the ocean.\n",
        "<br> (2) All the points located in map can be treated as outliers."
      ]
    },
    {
      "cell_type": "markdown",
      "metadata": {
        "id": "aGyMYBQ54T4q"
      },
      "source": [
        "**dropoff location**"
      ]
    },
    {
      "cell_type": "code",
      "execution_count": 42,
      "metadata": {
        "colab": {
          "base_uri": "https://localhost:8080/",
          "height": 88
        },
        "id": "wcW004TikhLa",
        "outputId": "e6ea9c09-b803-4a6c-aa57-562170d394f2"
      },
      "outputs": [
        {
          "output_type": "execute_result",
          "data": {
            "text/plain": [
              "\"outlier_locations = df[((df.dropoff_longitude <= -74.15) | (df.dropoff_latitude <= 40.5774)|                    (df.dropoff_longitude >= -73.7004) | (df.dropoff_latitude >= 40.9176))]\\n\\nmap_osm = folium.Map(location=[40.734695, -73.990372], tiles='Stamen Toner')\\n\\n# we will spot only first 100 outliers on the map, plotting all the outliers will take more time\\nsample_locations = outlier_locations.head(10000)\\nfor i,j in sample_locations.iterrows():\\n    if int(j['pickup_latitude']) != 0:\\n        folium.Marker(list((j['dropoff_latitude'],j['dropoff_longitude']))).add_to(map_osm)\\nmap_osm\""
            ],
            "application/vnd.google.colaboratory.intrinsic+json": {
              "type": "string"
            }
          },
          "metadata": {},
          "execution_count": 42
        }
      ],
      "source": [
        "'''outlier_locations = df[((df.dropoff_longitude <= -74.15) | (df.dropoff_latitude <= 40.5774)| \\\n",
        "                   (df.dropoff_longitude >= -73.7004) | (df.dropoff_latitude >= 40.9176))]\n",
        "\n",
        "map_osm = folium.Map(location=[40.734695, -73.990372], tiles='Stamen Toner')\n",
        "\n",
        "# we will spot only first 100 outliers on the map, plotting all the outliers will take more time\n",
        "sample_locations = outlier_locations.head(10000)\n",
        "for i,j in sample_locations.iterrows():\n",
        "    if int(j['pickup_latitude']) != 0:\n",
        "        folium.Marker(list((j['dropoff_latitude'],j['dropoff_longitude']))).add_to(map_osm)\n",
        "map_osm'''"
      ]
    },
    {
      "cell_type": "markdown",
      "metadata": {
        "id": "-YA3TXuq6Gl9"
      },
      "source": [
        "**observation**\n",
        "<br> (1) There are many pickups outside the newyork city as it can be seen, infact some pickup locations are in middle of the ocean.\n",
        "<br> (2) All the points located in map can be treated as outliers."
      ]
    },
    {
      "cell_type": "markdown",
      "metadata": {
        "id": "bs_dqQ6r8-8p"
      },
      "source": [
        "## Outlier removal"
      ]
    },
    {
      "cell_type": "markdown",
      "metadata": {
        "id": "mri9ONwi9HH_"
      },
      "source": [
        "<br> Following can be treated as outlier:\n",
        "<br>(1) data having passenger count >= 6 and 0\n",
        "<br>(2) data having trip_duration greater than 43200 sec i.e., 12 hours\n",
        "<br>(3) trip distance greater than 99.9 percentile or 15.389 miles \n",
        "<br>(4) pickup and dropoff locations not in range of cordinates(lat,long) - (40.5774, -74.15) & (40.9176,-73.7004)"
      ]
    },
    {
      "cell_type": "code",
      "execution_count": 41,
      "metadata": {
        "id": "ZhQ9qhes9EdQ"
      },
      "outputs": [],
      "source": [
        "def outlier_removal_function(df):\n",
        "  ''' \n",
        "  This function is used for outlier removal in this project\n",
        "  '''\n",
        "  # passenger_count\n",
        "  df1 = df[(df['passenger_count'] <= 6) & (df['passenger_count'] != 0)]\n",
        "  data_loss_pass = df.shape[0]-df1.shape[0]\n",
        "  print(\" data loss by passenger_count outlier is \", data_loss_pass*100/df.shape[0],\"%\")\n",
        "\n",
        "  # Trip_duration greater than 43200\n",
        "  df2 = df1[df1['trip_duration'] <= 43200]\n",
        "  data_loss_dur = df1.shape[0]-df2.shape[0]\n",
        "  print(\" data loss by trip duration \", data_loss_dur*100/df.shape[0],\"%\")\n",
        "\n",
        "  # trip distance greater than 15.389 miles\n",
        "  df3 = df2[df2['trip_distance'] <= 15.389]\n",
        "  data_loss_dis = df2.shape[0]-df3.shape[0]\n",
        "  print(\"data loss by trip_duration \", data_loss_dis*100/df.shape[0],\"%\")\n",
        "\n",
        "  # longitude and latitude\n",
        "  df4 = df3[(df3['pickup_latitude'] >= 40.5774) & (df3['pickup_latitude'] <= 40.9176)]\n",
        "  df5 = df4[(df4['pickup_longitude'] >=(-74.15)) & (df4['pickup_longitude'] <= (-73.7004))]\n",
        "\n",
        "  df6 = df5[(df5['dropoff_latitude'] >= 40.5774) & (df5['dropoff_latitude'] <= 40.9176)]\n",
        "  df7 = df6[(df6['dropoff_longitude'] >=(-74.15)) & (df6['pickup_longitude'] <= (-73.7004))]\n",
        "\n",
        "  data_loss_lat_long = df3.shape[0] - df7.shape[0]\n",
        "  print(\"data loss by location \", data_loss_lat_long*100/df.shape[0],\"%\")\n",
        "\n",
        "  # Total data loss\n",
        "  tot_data_loss = df.shape[0] - df7.shape[0]\n",
        "  print(\"total data loss is \", tot_data_loss*100/df.shape[0])\n",
        "\n",
        "  return df7\n",
        "\n"
      ]
    },
    {
      "cell_type": "code",
      "execution_count": 42,
      "metadata": {
        "colab": {
          "base_uri": "https://localhost:8080/"
        },
        "id": "S88rLc-NkhSE",
        "outputId": "55e7ac7a-485a-40c1-c37b-1677bf72a0f1"
      },
      "outputs": [
        {
          "output_type": "stream",
          "name": "stdout",
          "text": [
            " data loss by passenger_count outlier is  0.004456193560594635 %\n",
            " data loss by trip duration  0.13656519342622325 %\n",
            "data loss by trip_duration  0.09975017893331066 %\n",
            "data loss by location  0.23453289493529608 %\n",
            "total data loss is  0.4753044608554246\n"
          ]
        }
      ],
      "source": [
        "## data after outlier removal\n",
        "new_df =  outlier_removal_function(df)"
      ]
    },
    {
      "cell_type": "code",
      "execution_count": 43,
      "metadata": {
        "id": "BdiQ-bANGr1G",
        "colab": {
          "base_uri": "https://localhost:8080/",
          "height": 352
        },
        "outputId": "0e073b45-ef02-4f79-96b7-1d438fde2023"
      },
      "outputs": [
        {
          "output_type": "stream",
          "name": "stderr",
          "text": [
            "/usr/local/lib/python3.8/dist-packages/seaborn/_decorators.py:36: FutureWarning: Pass the following variable as a keyword arg: x. From version 0.12, the only valid positional argument will be `data`, and passing other arguments without an explicit keyword will result in an error or misinterpretation.\n",
            "  warnings.warn(\n"
          ]
        },
        {
          "output_type": "execute_result",
          "data": {
            "text/plain": [
              "<matplotlib.axes._subplots.AxesSubplot at 0x7fabdd4ac9a0>"
            ]
          },
          "metadata": {},
          "execution_count": 43
        },
        {
          "output_type": "display_data",
          "data": {
            "text/plain": [
              "<Figure size 432x288 with 1 Axes>"
            ],
            "image/png": "[encoded data removed]"
          },
          "metadata": {}
        }
      ],
      "source": [
        "## Trip duration nature after the outlier removal\n",
        "sns.boxplot(new_df['trip_duration'])\n"
      ]
    },
    {
      "cell_type": "markdown",
      "source": [
        "<br>\n",
        "\n",
        "> Still there are many outliers present in the data, so lets remove them by the traditional methods.\n",
        "\n",
        "\n",
        "> To remove the outliers we, normally follow to approaches:\n",
        "<br> 1. One using Interquartile Ranges.\n",
        "<br> 2. using Standard deviation\n",
        "\n",
        "\n",
        "\n"
      ],
      "metadata": {
        "id": "Di_tuNnrMkk4"
      }
    },
    {
      "cell_type": "code",
      "source": [
        "#  1) using interquartile ranges\n",
        "def OutlierRemovaIQR(df):\n",
        "  first_Quartile = df['trip_duration'].quantile(0.25)\n",
        "  third_Quartile = df['trip_duration'].quantile(0.75)\n",
        "  IQR = third_Quartile - first_Quartile\n",
        "  low_lim = first_Quartile - 1.5 * IQR\n",
        "  if low_lim > 0:\n",
        "    lower_lim = low_lim\n",
        "  else:\n",
        "    lower_lim = 0\n",
        "  upper_limit = third_Quartile + 1.5* IQR\n",
        "  df1 = df[(df['trip_duration']>lower_lim) & (df['trip_duration'] < upper_limit)]\n",
        "  data_loss = df.shape[0]-df1.shape[0]\n",
        "  print(\"data loss by IQR method \", data_loss*100/df.shape[0])\n",
        "  return df1\n",
        "\n",
        "\n",
        "# 2) using stadard deviation\n",
        "def OutlierRemovalSTD(df):\n",
        "  mean = df['trip_duration'].mean()\n",
        "  std = df['trip_duration'].std()\n",
        "  lower_lim = mean - 2*std\n",
        "  upper_lim = mean + 2*std\n",
        "  df1 = df[(df['trip_duration']>lower_lim) & (df['trip_duration']<upper_lim)]\n",
        "  data_loss = df.shape[0]-df1.shape[0]\n",
        "  print(\"data loss by standard deviation method \", data_loss*100/df.shape[0])\n",
        "  return df1\n"
      ],
      "metadata": {
        "id": "NCEGPW2ZMh3R"
      },
      "execution_count": 44,
      "outputs": []
    },
    {
      "cell_type": "code",
      "source": [
        "# using IQR\n",
        "df_iqr = OutlierRemovaIQR(new_df)"
      ],
      "metadata": {
        "colab": {
          "base_uri": "https://localhost:8080/"
        },
        "id": "R2ENYXgJQNhk",
        "outputId": "653a01a3-b814-4870-e3e6-cd7d5a525dd4"
      },
      "execution_count": 45,
      "outputs": [
        {
          "output_type": "stream",
          "name": "stdout",
          "text": [
            "data loss by IQR method  4.907588356084648\n"
          ]
        }
      ]
    },
    {
      "cell_type": "code",
      "source": [
        "# using std\n",
        "df_std = OutlierRemovalSTD(new_df)"
      ],
      "metadata": {
        "colab": {
          "base_uri": "https://localhost:8080/"
        },
        "id": "aL1ErqZARBpN",
        "outputId": "5d74554d-cba3-4ade-cebb-a113b1884149"
      },
      "execution_count": 46,
      "outputs": [
        {
          "output_type": "stream",
          "name": "stdout",
          "text": [
            "data loss by standard deviation method  4.036547219109037\n"
          ]
        }
      ]
    },
    {
      "cell_type": "markdown",
      "source": [
        "**conclusion:** The data loss through both the method are almost same so lets use data obtained by outlier removal through iqr method and lets perform the rest of analysis on this data."
      ],
      "metadata": {
        "id": "HQNj7HNnSqN4"
      }
    },
    {
      "cell_type": "markdown",
      "metadata": {
        "id": "cAbmHKGwpwh6"
      },
      "source": [
        "**Bivariate analysis**"
      ]
    },
    {
      "cell_type": "code",
      "execution_count": 47,
      "metadata": {
        "colab": {
          "base_uri": "https://localhost:8080/",
          "height": 297
        },
        "id": "CBeTRjDvnWFb",
        "outputId": "a7b9f5a2-d0b5-4999-dbf8-06c7758c127d"
      },
      "outputs": [
        {
          "output_type": "execute_result",
          "data": {
            "text/plain": [
              "<matplotlib.axes._subplots.AxesSubplot at 0x7fabdd2dec10>"
            ]
          },
          "metadata": {},
          "execution_count": 47
        },
        {
          "output_type": "display_data",
          "data": {
            "text/plain": [
              "<Figure size 432x288 with 1 Axes>"
            ],
            "image/png": "[encoded data removed]"
          },
          "metadata": {}
        }
      ],
      "source": [
        "# vendor_id vs trip duration\n",
        "sns.boxplot(data = df_std, x = 'vendor_id', y ='trip_duration', hue='vendor_id')\n"
      ]
    },
    {
      "cell_type": "code",
      "execution_count": 48,
      "metadata": {
        "colab": {
          "base_uri": "https://localhost:8080/",
          "height": 297
        },
        "id": "uWhVwG4msarz",
        "outputId": "e0c05427-f9e3-473c-ebff-ddfa6b551a2c"
      },
      "outputs": [
        {
          "output_type": "execute_result",
          "data": {
            "text/plain": [
              "<matplotlib.axes._subplots.AxesSubplot at 0x7fabde4e50d0>"
            ]
          },
          "metadata": {},
          "execution_count": 48
        },
        {
          "output_type": "display_data",
          "data": {
            "text/plain": [
              "<Figure size 432x288 with 1 Axes>"
            ],
            "image/png": "[encoded data removed]"
          },
          "metadata": {}
        }
      ],
      "source": [
        "sns.boxplot(data =df_std, x = 'passenger_count', y ='trip_duration', hue='passenger_count')\n"
      ]
    },
    {
      "cell_type": "code",
      "execution_count": 49,
      "metadata": {
        "colab": {
          "base_uri": "https://localhost:8080/",
          "height": 297
        },
        "id": "pDfL_Y3Iul8d",
        "outputId": "5ed4e303-a7eb-4cc1-c618-fa8192144e1f"
      },
      "outputs": [
        {
          "output_type": "execute_result",
          "data": {
            "text/plain": [
              "<matplotlib.axes._subplots.AxesSubplot at 0x7fabdedc1340>"
            ]
          },
          "metadata": {},
          "execution_count": 49
        },
        {
          "output_type": "display_data",
          "data": {
            "text/plain": [
              "<Figure size 432x288 with 1 Axes>"
            ],
            "image/png": "[encoded data removed]"
          },
          "metadata": {}
        }
      ],
      "source": [
        "sns.boxplot(data =df_std, x = 'store_and_fwd_flag', y ='trip_duration', hue='store_and_fwd_flag')"
      ]
    },
    {
      "cell_type": "code",
      "execution_count": 50,
      "metadata": {
        "colab": {
          "base_uri": "https://localhost:8080/",
          "height": 313
        },
        "id": "2HVzU-inubTd",
        "outputId": "699cf26c-a977-4fe5-be78-b128ed0bcd52"
      },
      "outputs": [
        {
          "output_type": "execute_result",
          "data": {
            "text/plain": [
              "Text(0.5, 1.0, 'trip_distance vs trip_duration')"
            ]
          },
          "metadata": {},
          "execution_count": 50
        },
        {
          "output_type": "display_data",
          "data": {
            "text/plain": [
              "<Figure size 432x288 with 1 Axes>"
            ],
            "image/png": "[encoded data removed]"
          },
          "metadata": {}
        }
      ],
      "source": [
        "plt.scatter(df_iqr['trip_distance'],df_iqr['trip_duration'])\n",
        "plt.xlabel(\"trip_distance\")\n",
        "plt.ylabel(\"trip_duration\")\n",
        "plt.title(\"trip_distance vs trip_duration\")"
      ]
    },
    {
      "cell_type": "code",
      "execution_count": 51,
      "metadata": {
        "id": "xRmEJOc_eqz8"
      },
      "outputs": [],
      "source": [
        "\n",
        "#plt.scatter(new_data1['pickup_latitude'],new_data1['pickup_longitude'],'r')\n",
        "#plt.scatter(new_data1['dropoff_latitude'],new_data1['dropoff_longitude','g'])\n",
        "#plt.xlabel(\"Latitude\")\n",
        "#plt.ylabel(\"Longitude\")\n",
        "#plt.show()"
      ]
    },
    {
      "cell_type": "markdown",
      "metadata": {
        "id": "84GZnP8MwPGg"
      },
      "source": [
        "**Multivariate analysis**"
      ]
    },
    {
      "cell_type": "code",
      "execution_count": 52,
      "metadata": {
        "id": "V1Gdtd3fwNQ1",
        "colab": {
          "base_uri": "https://localhost:8080/",
          "height": 1000
        },
        "outputId": "fe6ca05f-9a24-4e89-e05f-2578640a184d"
      },
      "outputs": [
        {
          "output_type": "execute_result",
          "data": {
            "text/plain": [
              "<matplotlib.axes._subplots.AxesSubplot at 0x7fabde6a9a00>"
            ]
          },
          "metadata": {},
          "execution_count": 52
        },
        {
          "output_type": "display_data",
          "data": {
            "text/plain": [
              "<Figure size 1440x1440 with 2 Axes>"
            ],
            "image/png": "[encoded data removed]"
          },
          "metadata": {}
        }
      ],
      "source": [
        "corr = round(df_std.corr(),3)\n",
        "plt.figure(figsize=(20,20))\n",
        "sns.heatmap(corr,cmap=\"Greens\",annot=True)\n"
      ]
    },
    {
      "cell_type": "markdown",
      "metadata": {
        "id": "R8lFxaN3zTOb"
      },
      "source": [
        "## Train test split"
      ]
    },
    {
      "cell_type": "code",
      "execution_count": 53,
      "metadata": {
        "id": "7luvmGjNz0cF",
        "colab": {
          "base_uri": "https://localhost:8080/"
        },
        "outputId": "ec09c5f8-0d4e-47bc-a899-1af419d078f8"
      },
      "outputs": [
        {
          "output_type": "execute_result",
          "data": {
            "text/plain": [
              "Index(['id', 'vendor_id', 'pickup_datetime', 'dropoff_datetime',\n",
              "       'passenger_count', 'pickup_longitude', 'pickup_latitude',\n",
              "       'dropoff_longitude', 'dropoff_latitude', 'store_and_fwd_flag',\n",
              "       'trip_duration', 'pickup_day', 'dropoff_day', 'pickup_month',\n",
              "       'dropoff_month', 'pickup_hour', 'dropoff_hour', 'pickup_minute',\n",
              "       'dropoff_minute', 'trip_distance'],\n",
              "      dtype='object')"
            ]
          },
          "metadata": {},
          "execution_count": 53
        }
      ],
      "source": [
        "df_std.columns"
      ]
    },
    {
      "cell_type": "code",
      "execution_count": 54,
      "metadata": {
        "id": "rukGI__dvgwy"
      },
      "outputs": [],
      "source": [
        "# since our target variable is trip_duration \n",
        "Y = df_std['trip_duration']\n",
        "# Keeping pickup datetime to perform time based splitting\n",
        "X = df_std[['vendor_id','passenger_count','store_and_fwd_flag','pickup_day', 'dropoff_day', 'pickup_month',\n",
        "       'dropoff_month', 'pickup_hour', 'dropoff_hour', 'pickup_minute',\n",
        "       'dropoff_minute', 'trip_distance','pickup_longitude', 'pickup_latitude',\n",
        "       'dropoff_longitude', 'dropoff_latitude']]"
      ]
    },
    {
      "cell_type": "code",
      "execution_count": 55,
      "metadata": {
        "id": "GFT_z9g_Hm8h",
        "colab": {
          "base_uri": "https://localhost:8080/",
          "height": 270
        },
        "outputId": "32135acb-592a-480a-c9fb-fd713f340369"
      },
      "outputs": [
        {
          "output_type": "execute_result",
          "data": {
            "text/plain": [
              "   vendor_id  passenger_count store_and_fwd_flag pickup_day dropoff_day  \\\n",
              "0          2                1                  N     Monday      Monday   \n",
              "1          1                1                  N     Sunday      Sunday   \n",
              "2          2                1                  N    Tuesday     Tuesday   \n",
              "3          2                1                  N  Wednesday   Wednesday   \n",
              "4          2                1                  N   Saturday    Saturday   \n",
              "\n",
              "   pickup_month  dropoff_month  pickup_hour  dropoff_hour  pickup_minute  \\\n",
              "0             3              3           17            17             24   \n",
              "1             6              6            0             0             43   \n",
              "2             1              1           11            12             35   \n",
              "3             4              4           19            19             32   \n",
              "4             3              3           13            13             30   \n",
              "\n",
              "   dropoff_minute  trip_distance  pickup_longitude  pickup_latitude  \\\n",
              "0              32       0.931139        -73.982155        40.767937   \n",
              "1              54       1.121892        -73.980415        40.738564   \n",
              "2              10       3.967522        -73.979027        40.763939   \n",
              "3              39       0.923047        -74.010040        40.719971   \n",
              "4              38       0.738556        -73.973053        40.793209   \n",
              "\n",
              "   dropoff_longitude  dropoff_latitude  \n",
              "0         -73.964630         40.765602  \n",
              "1         -73.999481         40.731152  \n",
              "2         -74.005333         40.710087  \n",
              "3         -74.012268         40.706718  \n",
              "4         -73.972923         40.782520  "
            ],
            "text/html": [
              "\n",
              "  <div id=\"df-035e2ee5-a770-4d8d-ab0a-a11abc36e262\">\n",
              "    <div class=\"colab-df-container\">\n",
              "      <div>\n",
              "<style scoped>\n",
              "    .dataframe tbody tr th:only-of-type {\n",
              "        vertical-align: middle;\n",
              "    }\n",
              "\n",
              "    .dataframe tbody tr th {\n",
              "        vertical-align: top;\n",
              "    }\n",
              "\n",
              "    .dataframe thead th {\n",
              "        text-align: right;\n",
              "    }\n",
              "</style>\n",
              "<table border=\"1\" class=\"dataframe\">\n",
              "  <thead>\n",
              "    <tr style=\"text-align: right;\">\n",
              "      <th></th>\n",
              "      <th>vendor_id</th>\n",
              "      <th>passenger_count</th>\n",
              "      <th>store_and_fwd_flag</th>\n",
              "      <th>pickup_day</th>\n",
              "      <th>dropoff_day</th>\n",
              "      <th>pickup_month</th>\n",
              "      <th>dropoff_month</th>\n",
              "      <th>pickup_hour</th>\n",
              "      <th>dropoff_hour</th>\n",
              "      <th>pickup_minute</th>\n",
              "      <th>dropoff_minute</th>\n",
              "      <th>trip_distance</th>\n",
              "      <th>pickup_longitude</th>\n",
              "      <th>pickup_latitude</th>\n",
              "      <th>dropoff_longitude</th>\n",
              "      <th>dropoff_latitude</th>\n",
              "    </tr>\n",
              "  </thead>\n",
              "  <tbody>\n",
              "    <tr>\n",
              "      <th>0</th>\n",
              "      <td>2</td>\n",
              "      <td>1</td>\n",
              "      <td>N</td>\n",
              "      <td>Monday</td>\n",
              "      <td>Monday</td>\n",
              "      <td>3</td>\n",
              "      <td>3</td>\n",
              "      <td>17</td>\n",
              "      <td>17</td>\n",
              "      <td>24</td>\n",
              "      <td>32</td>\n",
              "      <td>0.931139</td>\n",
              "      <td>-73.982155</td>\n",
              "      <td>40.767937</td>\n",
              "      <td>-73.964630</td>\n",
              "      <td>40.765602</td>\n",
              "    </tr>\n",
              "    <tr>\n",
              "      <th>1</th>\n",
              "      <td>1</td>\n",
              "      <td>1</td>\n",
              "      <td>N</td>\n",
              "      <td>Sunday</td>\n",
              "      <td>Sunday</td>\n",
              "      <td>6</td>\n",
              "      <td>6</td>\n",
              "      <td>0</td>\n",
              "      <td>0</td>\n",
              "      <td>43</td>\n",
              "      <td>54</td>\n",
              "      <td>1.121892</td>\n",
              "      <td>-73.980415</td>\n",
              "      <td>40.738564</td>\n",
              "      <td>-73.999481</td>\n",
              "      <td>40.731152</td>\n",
              "    </tr>\n",
              "    <tr>\n",
              "      <th>2</th>\n",
              "      <td>2</td>\n",
              "      <td>1</td>\n",
              "      <td>N</td>\n",
              "      <td>Tuesday</td>\n",
              "      <td>Tuesday</td>\n",
              "      <td>1</td>\n",
              "      <td>1</td>\n",
              "      <td>11</td>\n",
              "      <td>12</td>\n",
              "      <td>35</td>\n",
              "      <td>10</td>\n",
              "      <td>3.967522</td>\n",
              "      <td>-73.979027</td>\n",
              "      <td>40.763939</td>\n",
              "      <td>-74.005333</td>\n",
              "      <td>40.710087</td>\n",
              "    </tr>\n",
              "    <tr>\n",
              "      <th>3</th>\n",
              "      <td>2</td>\n",
              "      <td>1</td>\n",
              "      <td>N</td>\n",
              "      <td>Wednesday</td>\n",
              "      <td>Wednesday</td>\n",
              "      <td>4</td>\n",
              "      <td>4</td>\n",
              "      <td>19</td>\n",
              "      <td>19</td>\n",
              "      <td>32</td>\n",
              "      <td>39</td>\n",
              "      <td>0.923047</td>\n",
              "      <td>-74.010040</td>\n",
              "      <td>40.719971</td>\n",
              "      <td>-74.012268</td>\n",
              "      <td>40.706718</td>\n",
              "    </tr>\n",
              "    <tr>\n",
              "      <th>4</th>\n",
              "      <td>2</td>\n",
              "      <td>1</td>\n",
              "      <td>N</td>\n",
              "      <td>Saturday</td>\n",
              "      <td>Saturday</td>\n",
              "      <td>3</td>\n",
              "      <td>3</td>\n",
              "      <td>13</td>\n",
              "      <td>13</td>\n",
              "      <td>30</td>\n",
              "      <td>38</td>\n",
              "      <td>0.738556</td>\n",
              "      <td>-73.973053</td>\n",
              "      <td>40.793209</td>\n",
              "      <td>-73.972923</td>\n",
              "      <td>40.782520</td>\n",
              "    </tr>\n",
              "  </tbody>\n",
              "</table>\n",
              "</div>\n",
              "      <button class=\"colab-df-convert\" onclick=\"convertToInteractive('df-035e2ee5-a770-4d8d-ab0a-a11abc36e262')\"\n",
              "              title=\"Convert this dataframe to an interactive table.\"\n",
              "              style=\"display:none;\">\n",
              "        \n",
              "  <svg xmlns=\"http://www.w3.org/2000/svg\" height=\"24px\"viewBox=\"0 0 24 24\"\n",
              "       width=\"24px\">\n",
              "    <path d=\"M0 0h24v24H0V0z\" fill=\"none\"/>\n",
              "    <path d=\"M18.56 5.44l.94 2.06.94-2.06 2.06-.94-2.06-.94-.94-2.06-.94 2.06-2.06.94zm-11 1L8.5 8.5l.94-2.06 2.06-.94-2.06-.94L8.5 2.5l-.94 2.06-2.06.94zm10 10l.94 2.06.94-2.06 2.06-.94-2.06-.94-.94-2.06-.94 2.06-2.06.94z\"/><path d=\"M17.41 7.96l-1.37-1.37c-.4-.4-.92-.59-1.43-.59-.52 0-1.04.2-1.43.59L10.3 9.45l-7.72 7.72c-.78.78-.78 2.05 0 2.83L4 21.41c.39.39.9.59 1.41.59.51 0 1.02-.2 1.41-.59l7.78-7.78 2.81-2.81c.8-.78.8-2.07 0-2.86zM5.41 20L4 18.59l7.72-7.72 1.47 1.35L5.41 20z\"/>\n",
              "  </svg>\n",
              "      </button>\n",
              "      \n",
              "  <style>\n",
              "    .colab-df-container {\n",
              "      display:flex;\n",
              "      flex-wrap:wrap;\n",
              "      gap: 12px;\n",
              "    }\n",
              "\n",
              "    .colab-df-convert {\n",
              "      background-color: #E8F0FE;\n",
              "      border: none;\n",
              "      border-radius: 50%;\n",
              "      cursor: pointer;\n",
              "      display: none;\n",
              "      fill: #1967D2;\n",
              "      height: 32px;\n",
              "      padding: 0 0 0 0;\n",
              "      width: 32px;\n",
              "    }\n",
              "\n",
              "    .colab-df-convert:hover {\n",
              "      background-color: #E2EBFA;\n",
              "      box-shadow: 0px 1px 2px rgba(60, 64, 67, 0.3), 0px 1px 3px 1px rgba(60, 64, 67, 0.15);\n",
              "      fill: #174EA6;\n",
              "    }\n",
              "\n",
              "    [theme=dark] .colab-df-convert {\n",
              "      background-color: #3B4455;\n",
              "      fill: #D2E3FC;\n",
              "    }\n",
              "\n",
              "    [theme=dark] .colab-df-convert:hover {\n",
              "      background-color: #434B5C;\n",
              "      box-shadow: 0px 1px 3px 1px rgba(0, 0, 0, 0.15);\n",
              "      filter: drop-shadow(0px 1px 2px rgba(0, 0, 0, 0.3));\n",
              "      fill: #FFFFFF;\n",
              "    }\n",
              "  </style>\n",
              "\n",
              "      <script>\n",
              "        const buttonEl =\n",
              "          document.querySelector('#df-035e2ee5-a770-4d8d-ab0a-a11abc36e262 button.colab-df-convert');\n",
              "        buttonEl.style.display =\n",
              "          google.colab.kernel.accessAllowed ? 'block' : 'none';\n",
              "\n",
              "        async function convertToInteractive(key) {\n",
              "          const element = document.querySelector('#df-035e2ee5-a770-4d8d-ab0a-a11abc36e262');\n",
              "          const dataTable =\n",
              "            await google.colab.kernel.invokeFunction('convertToInteractive',\n",
              "                                                     [key], {});\n",
              "          if (!dataTable) return;\n",
              "\n",
              "          const docLinkHtml = 'Like what you see? Visit the ' +\n",
              "            '<a target=\"_blank\" href=https://colab.research.google.com/notebooks/data_table.ipynb>data table notebook</a>'\n",
              "            + ' to learn more about interactive tables.';\n",
              "          element.innerHTML = '';\n",
              "          dataTable['output_type'] = 'display_data';\n",
              "          await google.colab.output.renderOutput(dataTable, element);\n",
              "          const docLink = document.createElement('div');\n",
              "          docLink.innerHTML = docLinkHtml;\n",
              "          element.appendChild(docLink);\n",
              "        }\n",
              "      </script>\n",
              "    </div>\n",
              "  </div>\n",
              "  "
            ]
          },
          "metadata": {},
          "execution_count": 55
        }
      ],
      "source": [
        "X.head()"
      ]
    },
    {
      "cell_type": "markdown",
      "metadata": {
        "id": "VTrx1bdZIilx"
      },
      "source": [
        "**Understanding target variable**"
      ]
    },
    {
      "cell_type": "code",
      "execution_count": 56,
      "metadata": {
        "id": "ych3ZA-vHp0P",
        "colab": {
          "base_uri": "https://localhost:8080/",
          "height": 352
        },
        "outputId": "1386051b-a883-4914-98aa-08f4c0804114"
      },
      "outputs": [
        {
          "output_type": "stream",
          "name": "stderr",
          "text": [
            "/usr/local/lib/python3.8/dist-packages/seaborn/distributions.py:2619: FutureWarning: `distplot` is a deprecated function and will be removed in a future version. Please adapt your code to use either `displot` (a figure-level function with similar flexibility) or `histplot` (an axes-level function for histograms).\n",
            "  warnings.warn(msg, FutureWarning)\n"
          ]
        },
        {
          "output_type": "execute_result",
          "data": {
            "text/plain": [
              "<matplotlib.axes._subplots.AxesSubplot at 0x7fabe075fa30>"
            ]
          },
          "metadata": {},
          "execution_count": 56
        },
        {
          "output_type": "display_data",
          "data": {
            "text/plain": [
              "<Figure size 432x288 with 1 Axes>"
            ],
            "image/png": "[encoded data removed]"
          },
          "metadata": {}
        }
      ],
      "source": [
        "sns.distplot(Y, kde = True)"
      ]
    },
    {
      "cell_type": "code",
      "execution_count": 57,
      "metadata": {
        "id": "8FxPLYMdI935",
        "colab": {
          "base_uri": "https://localhost:8080/",
          "height": 352
        },
        "outputId": "be5aff55-2592-4cd9-b919-fe2b93b22d7a"
      },
      "outputs": [
        {
          "output_type": "stream",
          "name": "stderr",
          "text": [
            "/usr/local/lib/python3.8/dist-packages/seaborn/distributions.py:2619: FutureWarning: `distplot` is a deprecated function and will be removed in a future version. Please adapt your code to use either `displot` (a figure-level function with similar flexibility) or `histplot` (an axes-level function for histograms).\n",
            "  warnings.warn(msg, FutureWarning)\n"
          ]
        },
        {
          "output_type": "execute_result",
          "data": {
            "text/plain": [
              "<matplotlib.axes._subplots.AxesSubplot at 0x7fabe0ae6a90>"
            ]
          },
          "metadata": {},
          "execution_count": 57
        },
        {
          "output_type": "display_data",
          "data": {
            "text/plain": [
              "<Figure size 432x288 with 1 Axes>"
            ],
            "image/png": "[encoded data removed]"
          },
          "metadata": {}
        }
      ],
      "source": [
        "# Plot seems to be log_normal lets try it\n",
        "sns.distplot(np.log10(Y), kde = True)"
      ]
    },
    {
      "cell_type": "markdown",
      "metadata": {
        "id": "aOyBhGTDJOlg"
      },
      "source": [
        "Initially the target variable seems to be the log-normal distribution, but after plotting the log of the value it has slightly longer tail in left sie. So, to confirm it we plot QQ plot."
      ]
    },
    {
      "cell_type": "code",
      "execution_count": 58,
      "metadata": {
        "id": "Y37riy3bJIb4",
        "colab": {
          "base_uri": "https://localhost:8080/",
          "height": 295
        },
        "outputId": "3b74f450-0bf6-446f-9868-068dcc06df6a"
      },
      "outputs": [
        {
          "output_type": "display_data",
          "data": {
            "text/plain": [
              "<Figure size 432x288 with 1 Axes>"
            ],
            "image/png": "[encoded data removed]"
          },
          "metadata": {}
        }
      ],
      "source": [
        "#Q-Q plot for checking if trip-times is log-normal\n",
        "scipy.stats.probplot(np.log10(Y).values, plot=plt)\n",
        "plt.show()"
      ]
    },
    {
      "cell_type": "markdown",
      "metadata": {
        "id": "l-ydiTZiKUvF"
      },
      "source": [
        "From above plot it can be observed that in between -2 to 2 it acts as normal distribution and apart from this it is not. So we confirm that it is not a log normal distribution."
      ]
    },
    {
      "cell_type": "code",
      "execution_count": 59,
      "metadata": {
        "id": "1au3RqHFKQSM",
        "colab": {
          "base_uri": "https://localhost:8080/"
        },
        "outputId": "f3017308-d6c1-46db-b88a-c2dff11983b6"
      },
      "outputs": [
        {
          "output_type": "stream",
          "name": "stdout",
          "text": [
            "The shape of x_train and y_train are:  (1044834, 16) and (1044834,)\n",
            "The shape of x_test and y_test are:  (348278, 16) and (348278,)\n"
          ]
        }
      ],
      "source": [
        "x_train,x_test,y_train,y_test = train_test_split(X,Y, test_size=0.25, random_state = 0)\n",
        "print(\"The shape of x_train and y_train are: \", x_train.shape,\"and\", y_train.shape) \n",
        "print(\"The shape of x_test and y_test are: \", x_test.shape,\"and\", y_test.shape)"
      ]
    },
    {
      "cell_type": "markdown",
      "metadata": {
        "id": "okCaPAV-L9P1"
      },
      "source": [
        "**Data preparation**"
      ]
    },
    {
      "cell_type": "code",
      "execution_count": 60,
      "metadata": {
        "id": "--EVthbeL2tt",
        "colab": {
          "base_uri": "https://localhost:8080/"
        },
        "outputId": "1d0da9e5-6f60-476b-d2fe-5c2ba4ba7d02"
      },
      "outputs": [
        {
          "output_type": "execute_result",
          "data": {
            "text/plain": [
              "Index(['vendor_id', 'passenger_count', 'store_and_fwd_flag', 'pickup_day',\n",
              "       'dropoff_day', 'pickup_month', 'dropoff_month', 'pickup_hour',\n",
              "       'dropoff_hour', 'pickup_minute', 'dropoff_minute', 'trip_distance',\n",
              "       'pickup_longitude', 'pickup_latitude', 'dropoff_longitude',\n",
              "       'dropoff_latitude'],\n",
              "      dtype='object')"
            ]
          },
          "metadata": {},
          "execution_count": 60
        }
      ],
      "source": [
        "x_train.columns"
      ]
    },
    {
      "cell_type": "markdown",
      "metadata": {
        "id": "CG5cAsD5ZQ1e"
      },
      "source": [
        "(1) catogorical type: vendor_id, passenger_count,store_and_fwd_flag,pickup_day,dropoff_day, pickup_month, dropoff_month, pickup_hour, dropoff_hour\n",
        "<br>(2) Numerical type : trip_distance,'pickup_longitude', 'pickup_latitude', 'dropoff_longitude','dropoff_latitude', pickup_minute, dropoff_minute"
      ]
    },
    {
      "cell_type": "code",
      "execution_count": 61,
      "metadata": {
        "id": "TfHp9_NbZHuc"
      },
      "outputs": [],
      "source": [
        "# converting categorical into numerical\n",
        "\n",
        "#x_train1 = pd.get_dummies(x_train, drop_first = True)\n",
        "#x_test1 = pd.get_dummies(x_test,drop_first = True)\n",
        "\n",
        "# since performing this at once, it is not considering vendor_id and passenger_count as categorical so lets perform one by one and concat them\n",
        "\n",
        "def pandas_get_dummies(df,col):\n",
        "  df1 = pd.get_dummies(df[col], drop_first = True)\n",
        "  return df1"
      ]
    },
    {
      "cell_type": "code",
      "execution_count": 62,
      "metadata": {
        "id": "HyOcO5WPbjcD",
        "colab": {
          "base_uri": "https://localhost:8080/"
        },
        "outputId": "e4075e1e-fd39-4b2a-a36d-81a90d44324d"
      },
      "outputs": [
        {
          "output_type": "stream",
          "name": "stdout",
          "text": [
            "Shape of vendor id categorical (1044834, 1) and (348278, 1)\n",
            "--------------------------------------------------\n",
            "Shape of passenger_count categorical (1044834, 5) and (348278, 5)\n",
            "--------------------------------------------------\n",
            "Shape of store_and_fwd_flag categorical (1044834, 1) and (348278, 1)\n",
            "--------------------------------------------------\n",
            "Shape of pickup_day categorical (1044834, 6) and (348278, 6)\n",
            "--------------------------------------------------\n",
            "Shape of dropoff_day categorical (1044834, 6) and (348278, 6)\n",
            "--------------------------------------------------\n",
            "Shape of pickup_month categorical (1044834, 5) and (348278, 5)\n",
            "--------------------------------------------------\n",
            "Shape of dropoff_month categorical (1044834, 6) and (348278, 6)\n",
            "--------------------------------------------------\n",
            "Shape of pickup_hour categorical (1044834, 23) and (348278, 23)\n",
            "--------------------------------------------------\n",
            "Shape of dropoff_hour categorical (1044834, 23) and (348278, 23)\n",
            "--------------------------------------------------\n"
          ]
        }
      ],
      "source": [
        "# vendor_id\n",
        "vendor_id_dum_tr = np.asarray(pandas_get_dummies(x_train,'vendor_id'))\n",
        "vendor_id_dum_te = np.asarray(pandas_get_dummies(x_test,'vendor_id'))\n",
        "print(\"Shape of vendor id categorical\", vendor_id_dum_tr.shape,\"and\", vendor_id_dum_te.shape)\n",
        "print(\"-\"*50)\n",
        "\n",
        "# passenger_count\n",
        "passenger_count_dum_tr = np.asarray(pandas_get_dummies(x_train,'passenger_count'))\n",
        "passenger_count_dum_te = np.asarray(pandas_get_dummies(x_test,'passenger_count'))\n",
        "print(\"Shape of passenger_count categorical\", passenger_count_dum_tr.shape,\"and\", passenger_count_dum_te.shape)\n",
        "print(\"-\"*50)\n",
        "\n",
        "# store_and_fwd_flag\n",
        "store_and_fwd_flag_dum_tr = np.asarray(pandas_get_dummies(x_train,'store_and_fwd_flag'))\n",
        "store_and_fwd_flag_dum_te = np.asarray(pandas_get_dummies(x_test,'store_and_fwd_flag'))\n",
        "print(\"Shape of store_and_fwd_flag categorical\", store_and_fwd_flag_dum_tr.shape,\"and\", store_and_fwd_flag_dum_te.shape)\n",
        "print(\"-\"*50)\n",
        "\n",
        "# pickup_day\n",
        "pickup_day_dum_tr = np.asarray(pandas_get_dummies(x_train,'pickup_day'))\n",
        "pickup_day_dum_te = np.asarray(pandas_get_dummies(x_test,'pickup_day'))\n",
        "print(\"Shape of pickup_day categorical\", pickup_day_dum_tr.shape,\"and\", pickup_day_dum_te.shape)\n",
        "print(\"-\"*50)\n",
        "\n",
        "# dropoff_day\n",
        "dropoff_day_dum_tr = np.asarray(pandas_get_dummies(x_train,'dropoff_day'))\n",
        "dropoff_day_dum_te = np.asarray(pandas_get_dummies(x_test,'dropoff_day'))\n",
        "print(\"Shape of dropoff_day categorical\", dropoff_day_dum_tr.shape,\"and\", dropoff_day_dum_te.shape)\n",
        "print(\"-\"*50)\n",
        "\n",
        "# pickup_month\n",
        "pickup_month_dum_tr = np.asarray(pandas_get_dummies(x_train,'pickup_month'))\n",
        "pickup_month_dum_te = np.asarray(pandas_get_dummies(x_test,'pickup_month'))\n",
        "print(\"Shape of pickup_month categorical\", pickup_month_dum_tr.shape,\"and\", pickup_month_dum_te.shape)\n",
        "print(\"-\"*50)\n",
        "\n",
        "# dropoff_month\n",
        "dropoff_month_dum_tr = np.asarray(pandas_get_dummies(x_train,'dropoff_month'))\n",
        "dropoff_month_dum_te = np.asarray(pandas_get_dummies(x_test,'dropoff_month'))\n",
        "print(\"Shape of dropoff_month categorical\", dropoff_month_dum_tr.shape,\"and\", dropoff_month_dum_te.shape)\n",
        "print(\"-\"*50)\n",
        "\n",
        "# pickup_hour\n",
        "pickup_hour_dum_tr = np.asarray(pandas_get_dummies(x_train,'pickup_hour'))\n",
        "pickup_hour_dum_te = np.asarray(pandas_get_dummies(x_test,'pickup_hour'))\n",
        "print(\"Shape of pickup_hour categorical\", pickup_hour_dum_tr.shape,\"and\", pickup_hour_dum_te.shape)\n",
        "print(\"-\"*50)\n",
        "\n",
        "# dropoff_hour\n",
        "dropoff_hour_dum_tr = np.asarray(pandas_get_dummies(x_train,'dropoff_hour'))\n",
        "dropoff_hour_dum_te = np.asarray(pandas_get_dummies(x_test,'dropoff_hour'))\n",
        "print(\"Shape of dropoff_hour categorical\", dropoff_hour_dum_tr.shape,\"and\", dropoff_hour_dum_te.shape)\n",
        "print(\"-\"*50)\n",
        "\n",
        "\n"
      ]
    },
    {
      "cell_type": "code",
      "source": [
        "## converting latitude longitude into an array\n",
        "lat_long_dat_tr = np.asarray(x_train[['pickup_minute','dropoff_minute','trip_distance','pickup_longitude', 'pickup_latitude', 'dropoff_longitude','dropoff_latitude']])\n",
        "lat_long_dat_te = np.asarray(x_test[['pickup_minute','dropoff_minute','trip_distance','pickup_longitude', 'pickup_latitude', 'dropoff_longitude','dropoff_latitude']])"
      ],
      "metadata": {
        "id": "OT6eVB5JXAmW"
      },
      "execution_count": 63,
      "outputs": []
    },
    {
      "cell_type": "code",
      "execution_count": 64,
      "metadata": {
        "id": "Q3axiXrHctyi",
        "colab": {
          "base_uri": "https://localhost:8080/"
        },
        "outputId": "b2d02fc0-2441-4114-f27b-033bdb412e13"
      },
      "outputs": [
        {
          "output_type": "stream",
          "name": "stdout",
          "text": [
            "(1044834, 83)\n",
            "(348278, 83)\n"
          ]
        }
      ],
      "source": [
        "# Lets merge all the dataset\n",
        "\n",
        "x_train2 = np.hstack((vendor_id_dum_tr,passenger_count_dum_tr,store_and_fwd_flag_dum_tr,pickup_day_dum_tr,dropoff_day_dum_tr,pickup_month_dum_tr,dropoff_month_dum_tr,pickup_hour_dum_tr,dropoff_hour_dum_tr, lat_long_dat_tr))\n",
        "x_test2 = np.hstack((vendor_id_dum_te,passenger_count_dum_te,store_and_fwd_flag_dum_te,pickup_day_dum_te,dropoff_day_dum_te,pickup_month_dum_te,dropoff_month_dum_te,pickup_hour_dum_te,dropoff_hour_dum_te,lat_long_dat_te))\n",
        "print(x_train2.shape)\n",
        "print(x_test2.shape)"
      ]
    },
    {
      "cell_type": "code",
      "source": [
        "## To remove scale effect lets normalize all the independent variable using MinMaxScalar()\n",
        "scaler = MinMaxScaler()\n",
        "x_train_final = scaler.fit_transform(x_train2)\n",
        "x_test_final = scaler.transform(x_test2)"
      ],
      "metadata": {
        "id": "1yFU2-Qulrya"
      },
      "execution_count": 65,
      "outputs": []
    },
    {
      "cell_type": "markdown",
      "source": [
        "## Model Training \n",
        "\n",
        "<br> In this section we will train bunch of machine learning models along with the hyperparameter tuning. The models we train are following:\n",
        "<br> (1) Linear regression\n",
        "<br> (2) Lasso regression\n",
        "<br> (3) SVM Regressor\n",
        "<br> (4) Decision tree\n",
        "<br> (5) Random forest\n",
        "<br> (6) Gradient Boosting Decision Tree"
      ],
      "metadata": {
        "id": "hOQG5BM_aPC-"
      }
    },
    {
      "cell_type": "markdown",
      "source": [
        "**Evaluation metrics:**\n",
        "<br> 1. RMSE\n",
        "<br> 2. R**2\n",
        "<br> 3. MAPE"
      ],
      "metadata": {
        "id": "C6V7TYiRSZaa"
      }
    },
    {
      "cell_type": "code",
      "source": [],
      "metadata": {
        "id": "DyZSq6tRSYnI"
      },
      "execution_count": 63,
      "outputs": []
    },
    {
      "cell_type": "markdown",
      "source": [
        "**1. Linear Regression**\n"
      ],
      "metadata": {
        "id": "joUC2uqGbMqE"
      }
    },
    {
      "cell_type": "code",
      "source": [
        "lr = LinearRegression()\n",
        "lr.fit(x_train_final,y_train)\n",
        "y_train_pred = lr.predict(x_train_final)\n",
        "y_test_pred = lr.predict(x_test_final)"
      ],
      "metadata": {
        "id": "VU88gG0wbH3W"
      },
      "execution_count": 64,
      "outputs": []
    },
    {
      "cell_type": "code",
      "source": [
        "lr.intercept_"
      ],
      "metadata": {
        "id": "V2h6KT7WoAwl",
        "colab": {
          "base_uri": "https://localhost:8080/"
        },
        "outputId": "1afafc7c-2491-4808-b9d7-3107b9746ed4"
      },
      "execution_count": 65,
      "outputs": [
        {
          "output_type": "execute_result",
          "data": {
            "text/plain": [
              "758.9915791713349"
            ]
          },
          "metadata": {},
          "execution_count": 65
        }
      ]
    },
    {
      "cell_type": "code",
      "source": [
        "# root mean_squared_error\n",
        "rmse_train = math.sqrt(mean_squared_error(y_train,y_train_pred))\n",
        "rmse_test = math.sqrt(mean_squared_error(y_test,y_test_pred))\n",
        "print(\"rmse for train is:\",rmse_train)\n",
        "print(\"rmse for test is:\",rmse_test)"
      ],
      "metadata": {
        "id": "v2w0omugon4p",
        "colab": {
          "base_uri": "https://localhost:8080/"
        },
        "outputId": "9f59271d-1fb1-47df-f726-b0a6a18821be"
      },
      "execution_count": 66,
      "outputs": [
        {
          "output_type": "stream",
          "name": "stdout",
          "text": [
            "rmse for train is: 302.5566008752181\n",
            "rmse for test is: 301.90576484111057\n"
          ]
        }
      ]
    },
    {
      "cell_type": "code",
      "source": [
        "# r2 error\n",
        "r2_train = r2_score(y_train,y_train_pred)\n",
        "r2_test = r2_score(y_test,y_test_pred)\n",
        "print(\"r2_square for train is:\", r2_train)\n",
        "print(\"r2_square for test is:\", r2_test)"
      ],
      "metadata": {
        "id": "rL4mLrSBpuPJ",
        "colab": {
          "base_uri": "https://localhost:8080/"
        },
        "outputId": "c3608925-ebea-4b2c-826c-d40fab4606f7"
      },
      "execution_count": 67,
      "outputs": [
        {
          "output_type": "stream",
          "name": "stdout",
          "text": [
            "r2_square for train is: 0.5722304331467376\n",
            "r2_square for test is: 0.5726471912670594\n"
          ]
        }
      ]
    },
    {
      "cell_type": "code",
      "source": [
        "# mean_absolute_percentage_error\n",
        "MAPE_train = mean_absolute_percentage_error(y_train,y_train_pred)\n",
        "MAPE_test = mean_absolute_percentage_error(y_test,y_test_pred)\n",
        "print(\"MAPE score for train:\",MAPE_train)\n",
        "print(\"MAPE score for test:\", MAPE_test)"
      ],
      "metadata": {
        "id": "f6kLL9gyscoN",
        "colab": {
          "base_uri": "https://localhost:8080/"
        },
        "outputId": "13f73413-a88c-4de3-95fb-0b4c728ca512"
      },
      "execution_count": 68,
      "outputs": [
        {
          "output_type": "stream",
          "name": "stdout",
          "text": [
            "MAPE score for train: 0.6018716506109257\n",
            "MAPE score for test: 0.596778854334441\n"
          ]
        }
      ]
    },
    {
      "cell_type": "markdown",
      "source": [
        "**2.Lasso Regression**"
      ],
      "metadata": {
        "id": "YwXPQSfsUIDJ"
      }
    },
    {
      "cell_type": "code",
      "source": [
        "alphas = [10**i for i in range(4)]\n",
        "rmse_tr_l = []\n",
        "rmse_te_l = []\n",
        "\n",
        "for alpha in tqdm(alphas):    \n",
        "    lasso = Lasso(alpha = alpha, fit_intercept = True)\n",
        "    lasso.fit(x_train_final, y_train)\n",
        "    y_train_pred_l = lasso.predict(x_train_final)\n",
        "    y_test_pred_l = lasso.predict(x_test_final)\n",
        "    rmse_tr_l1 = math.sqrt(mean_squared_error(y_train,y_train_pred_l))\n",
        "    rmse_te_l1 = math.sqrt(mean_squared_error(y_test,y_test_pred_l))\n",
        "    rmse_tr_l.append(rmse_tr_l1)\n",
        "    rmse_te_l.append(rmse_te_l1)\n",
        "\n",
        "plt.plot(alphas, rmse_tr_l,'r',label='train_score')\n",
        "plt.scatter(alphas, rmse_tr_l)\n",
        "plt.plot(alphas, rmse_te_l,'y',label='test_score')\n",
        "plt.scatter(alphas, rmse_te_l)\n",
        "plt.ylabel('rmse')\n",
        "plt.xlabel('alphas')\n",
        "plt.legend()\n",
        "plt.show()  "
      ],
      "metadata": {
        "colab": {
          "base_uri": "https://localhost:8080/",
          "height": 296
        },
        "id": "0_qwR8tpUm59",
        "outputId": "c43d5cf3-3f1e-42f0-eebb-84f9e60bbd81"
      },
      "execution_count": 67,
      "outputs": [
        {
          "output_type": "stream",
          "name": "stderr",
          "text": [
            "100%|██████████| 4/4 [00:43<00:00, 10.90s/it]\n"
          ]
        },
        {
          "output_type": "display_data",
          "data": {
            "text/plain": [
              "<Figure size 432x288 with 1 Axes>"
            ],
            "image/png": "[encoded data removed]"
          },
          "metadata": {}
        }
      ]
    },
    {
      "cell_type": "code",
      "source": [
        "lasso = Lasso(alpha = 1, fit_intercept = True)\n",
        "lasso.fit(x_train_final, y_train)\n",
        "y_train_pred_l = lasso.predict(x_train_final)\n",
        "y_test_pred_l = lasso.predict(x_test_final)\n",
        "rmse_tr_l1 = math.sqrt(mean_squared_error(y_train,y_train_pred_l))\n",
        "rmse_te_l1 = math.sqrt(mean_squared_error(y_test,y_test_pred_l))\n",
        "print(rmse_tr_l1)\n",
        "print(rmse_te_l1)"
      ],
      "metadata": {
        "colab": {
          "base_uri": "https://localhost:8080/"
        },
        "id": "-sInaFeCWavS",
        "outputId": "5ef612b6-1811-459f-ee54-3b0e8f20faf1"
      },
      "execution_count": 96,
      "outputs": [
        {
          "output_type": "stream",
          "name": "stdout",
          "text": [
            "311.955879163911\n",
            "311.1460296854767\n"
          ]
        }
      ]
    },
    {
      "cell_type": "markdown",
      "source": [
        "**3. Ridge Regression**"
      ],
      "metadata": {
        "id": "FaGJmIXfv86H"
      }
    },
    {
      "cell_type": "code",
      "source": [
        "alphas = [10**i for i in range(-2,3)]\n",
        "rmse_tr_r = []\n",
        "rmse_te_r = []\n",
        "\n",
        "for alpha in tqdm(alphas):    \n",
        "    ridge = Ridge(alpha = alpha, fit_intercept = True)\n",
        "    ridge.fit(x_train_final, y_train)\n",
        "    y_train_pred_r = ridge.predict(x_train_final)\n",
        "    y_test_pred_r = ridge.predict(x_test_final)\n",
        "    rmse_tr_r1 = math.sqrt(mean_squared_error(y_train,y_train_pred_r))\n",
        "    rmse_te_r1 = math.sqrt(mean_squared_error(y_test,y_test_pred_r))\n",
        "    rmse_tr_r.append(rmse_tr_r1)\n",
        "    rmse_te_r.append(rmse_te_r1)\n",
        "\n",
        "plt.plot(alphas, rmse_tr_r,'r',label='train_score')\n",
        "plt.scatter(alphas, rmse_tr_r)\n",
        "plt.plot(alphas, rmse_te_r,'y',label='test_score')\n",
        "plt.scatter(alphas, rmse_te_r)\n",
        "plt.ylabel('rmse')\n",
        "plt.xlabel('alphas')\n",
        "plt.legend()\n",
        "plt.show()  "
      ],
      "metadata": {
        "id": "zgGcnY-otOaW",
        "colab": {
          "base_uri": "https://localhost:8080/",
          "height": 296
        },
        "outputId": "8d735dd6-9ba1-47b8-e4ec-7ffbaad6d4ee"
      },
      "execution_count": 93,
      "outputs": [
        {
          "output_type": "stream",
          "name": "stderr",
          "text": [
            "100%|██████████| 5/5 [00:05<00:00,  1.14s/it]\n"
          ]
        },
        {
          "output_type": "display_data",
          "data": {
            "text/plain": [
              "<Figure size 432x288 with 1 Axes>"
            ],
            "image/png": "[encoded data removed]"
          },
          "metadata": {}
        }
      ]
    },
    {
      "cell_type": "code",
      "source": [
        "print(alphas)\n",
        "print(rmse_tr_r)\n",
        "print(rmse_te_r)"
      ],
      "metadata": {
        "id": "LjC-ohFphe7w",
        "colab": {
          "base_uri": "https://localhost:8080/"
        },
        "outputId": "74fdf2ad-08e5-4e82-e8d0-df744ef7ca6c"
      },
      "execution_count": 94,
      "outputs": [
        {
          "output_type": "stream",
          "name": "stdout",
          "text": [
            "[0.01, 0.1, 1, 10, 100]\n",
            "[302.5566012823776, 302.55663964342506, 302.5595866721335, 302.72730378085356, 304.6640827182754]\n",
            "[301.9057605279571, 301.9057420414965, 301.90739725963465, 302.05892045399617, 303.9448979122831]\n"
          ]
        }
      ]
    },
    {
      "cell_type": "markdown",
      "source": [
        "**observation:** we can see that both the scores are same for alpha value of the 0.01,0.1,1 and with further increase in value the rmse value increases. so lets keep the model at alpha =1."
      ],
      "metadata": {
        "id": "Ns7yHdnrTu7N"
      }
    },
    {
      "cell_type": "markdown",
      "source": [
        "**4. Decision Tree**"
      ],
      "metadata": {
        "id": "r0A2qIyexTIZ"
      }
    },
    {
      "cell_type": "code",
      "source": [
        "depth = [i for i in range(2,15)]\n",
        "rmse_train_dtc=[]\n",
        "rmse_test_dtc = []\n",
        "for d in depth:\n",
        "  regressor = DecisionTreeRegressor(max_depth = d,random_state = 0)\n",
        "  regressor.fit(x_train_final,y_train)\n",
        "  y_train_pred_dtr = regressor.predict(x_train_final)\n",
        "  y_test_pred_dtr = regressor.predict(x_test_final)\n",
        "  #print(\"max_depth is\",d)\n",
        "  rmse_train = math.sqrt(mean_squared_error(y_train,y_train_pred_dtr))\n",
        "  rmse_test = math.sqrt(mean_squared_error(y_test,y_test_pred_dtr))\n",
        "  rmse_train_dtc.append(rmse_train)\n",
        "  rmse_test_dtc.append(rmse_test)\n",
        "plt.plot(depth, rmse_train_dtc,'r',label='train_score')\n",
        "plt.scatter(depth, rmse_train_dtc)\n",
        "plt.plot(depth, rmse_test_dtc,'y',label='test_score')\n",
        "plt.scatter(depth, rmse_test_dtc)\n",
        "plt.ylabel('rmse')\n",
        "plt.xlabel('Depth')\n",
        "plt.legend()\n",
        "plt.show()\n"
      ],
      "metadata": {
        "id": "iZfcXXp1jAo7",
        "colab": {
          "base_uri": "https://localhost:8080/",
          "height": 279
        },
        "outputId": "86a8c6f3-64e7-4981-a4f4-94ed746f8fcc"
      },
      "execution_count": null,
      "outputs": [
        {
          "output_type": "display_data",
          "data": {
            "text/plain": [
              "<Figure size 432x288 with 1 Axes>"
            ],
            "image/png": "[encoded data removed]"
          },
          "metadata": {}
        }
      ]
    },
    {
      "cell_type": "code",
      "source": [
        "print(depth)\n",
        "print(rmse_train_dtc)\n",
        "print(rmse_test_dtc)"
      ],
      "metadata": {
        "id": "aXditI3ZVpgG",
        "colab": {
          "base_uri": "https://localhost:8080/"
        },
        "outputId": "58631206-558f-4eab-c624-3748bcb12e17"
      },
      "execution_count": null,
      "outputs": [
        {
          "output_type": "stream",
          "name": "stdout",
          "text": [
            "[2, 3, 4, 5, 6, 7, 8, 9, 10, 11, 12, 13, 14]\n",
            "[314.6939210477955, 302.2998291015987, 296.5506900753237, 292.4452623345734, 288.7348046668967, 285.62116136349044, 282.57596270786433, 279.44005165381043, 276.0761521851452, 272.4251203291727, 268.47834190022974, 264.1105376893873, 259.1909567385383]\n",
            "[314.0966386185399, 301.5632010948732, 296.0231665624718, 291.967963569105, 288.3192192119295, 285.28854825601354, 282.6587339360429, 279.85988177585824, 277.3102506411161, 274.9278779351643, 273.0220403626862, 271.1775991688791, 269.5842612272742]\n"
          ]
        }
      ]
    },
    {
      "cell_type": "markdown",
      "source": [
        "**observation**\n",
        "<br> with increase in max_depth of the model the rmse decreases, however the minimum gap between train and test score is at max_depth equal to 9. so after the depth 9 we will be overfitting the model."
      ],
      "metadata": {
        "id": "dke5-0Ndw5cZ"
      }
    },
    {
      "cell_type": "code",
      "source": [
        "# final model using min_depth = 9\n",
        "regressor1 = DecisionTreeRegressor(max_depth = 9,random_state = 0)\n",
        "regressor1.fit(x_train_final,y_train)\n",
        "y_train_pred_dtr = regressor1.predict(x_train_final)\n",
        "y_test_pred_dtr = regressor1.predict(x_test_final)\n",
        "rmse_train_dtr = math.sqrt(mean_squared_error(y_train,y_train_pred_dtr))\n",
        "rmse_test_dtr = math.sqrt(mean_squared_error(y_test,y_test_pred_dtr))\n",
        "print(\"rmse for train is:\",rmse_train_dtr)\n",
        "print(\"rmse for test is:\",rmse_test_dtr)\n",
        "# r2 error\n",
        "r2_train_dtr = r2_score(y_train,y_train_pred_dtr)\n",
        "r2_test_dtr = r2_score(y_test,y_test_pred_dtr)\n",
        "print(\"r2_square for train is:\", r2_train_dtr)\n",
        "print(\"r2_square for test is:\", r2_test_dtr)\n",
        "# mean_absolute_percentage_error\n",
        "MAPE_train_dtr = mean_absolute_percentage_error(y_train,y_train_pred_dtr)\n",
        "MAPE_test_dtr = mean_absolute_percentage_error(y_test,y_test_pred_dtr)\n",
        "print(\"MAPE score for train:\",MAPE_train_dtr)\n",
        "print(\"MAPE score for test:\", MAPE_test_dtr)\n"
      ],
      "metadata": {
        "id": "jjz_hqPH0mc2",
        "colab": {
          "base_uri": "https://localhost:8080/"
        },
        "outputId": "9c521f94-7a7c-408e-889c-fddc2993097a"
      },
      "execution_count": null,
      "outputs": [
        {
          "output_type": "stream",
          "name": "stdout",
          "text": [
            "rmse for train is: 279.44005165381043\n",
            "rmse for test is: 279.85988177585824\n",
            "r2_square for train is: 0.6350999481682088\n",
            "r2_square for test is: 0.6327810846010624\n",
            "MAPE score for train: 0.4702065087792902\n",
            "MAPE score for test: 0.46911425793188744\n"
          ]
        }
      ]
    },
    {
      "cell_type": "markdown",
      "source": [
        "**5. Random Forest**"
      ],
      "metadata": {
        "id": "wsoK2AWu2JwV"
      }
    },
    {
      "cell_type": "code",
      "source": [
        "\n",
        "'''from sklearn.ensemble import RandomForestRegressor\n",
        "rf = RandomForestRegressor(criterion='squared_error',random_state=1)\n",
        "param = {'max_depth' :[10,11,12,14,15],'n_estimators':[5,10,15,20]}\n",
        "rcv = RandomizedSearchCV(rf,param_distributions = param, n_iter = 5,random_state = 1)\n",
        "rcv.fit(x_train_final,y_train)\n",
        "#rf.fit(x_train_final,y_train)'''"
      ],
      "metadata": {
        "id": "8WvxfHDhxpSX",
        "colab": {
          "base_uri": "https://localhost:8080/",
          "height": 53
        },
        "outputId": "c69b0e67-9f62-4f0a-b234-38a11641d07a"
      },
      "execution_count": 72,
      "outputs": [
        {
          "output_type": "execute_result",
          "data": {
            "text/plain": [
              "\"from sklearn.ensemble import RandomForestRegressor\\nrf = RandomForestRegressor(criterion='squared_error',random_state=1)\\nparam = {'max_depth' :[10,11,12,14,15],'n_estimators':[5,10,15,20]}\\nrcv = RandomizedSearchCV(rf,param_distributions = param, n_iter = 5,random_state = 1)\\nrcv.fit(x_train_final,y_train)\\n#rf.fit(x_train_final,y_train)\""
            ],
            "application/vnd.google.colaboratory.intrinsic+json": {
              "type": "string"
            }
          },
          "metadata": {},
          "execution_count": 72
        }
      ]
    },
    {
      "cell_type": "code",
      "source": [
        "# In case of random forest we normally train high variance tree and from the decision tree model, it has been observed that variance start increasing after the depth 9,\n",
        "# so we train the model of depth more than 9 with estimators start with 10.\n",
        "\n",
        "# Here the randomizedsearchcv is too slow, so lets implement customized hyperparameter tuning.\n",
        "def RandomForestWithHyperparameterTuning(x_train,x_test,y_train,y_test):\n",
        "  '''\n",
        "  Implementing random forest with hyperparameter tuning\n",
        "  '''\n",
        "  depth = [10,11,12,14,15]\n",
        "  rmse_tr = []\n",
        "  rmse_te = []\n",
        "  for ele in tqdm(depth):\n",
        "    rf = RandomForestRegressor(criterion ='squared_error',random_state = 1, max_depth = ele, n_estimators= 10)\n",
        "    rf.fit(x_train_final,y_train)\n",
        "    y_train_pred = rf.predict(x_train_final)\n",
        "    y_test_pred = rf.predict(x_test_final)\n",
        "    rmse_tr1 = math.sqrt(mean_squared_error(y_train,y_train_pred))\n",
        "    rmse_te1 = math.sqrt(mean_squared_error(y_test,y_test_pred))\n",
        "    rmse_tr.append(rmse_tr1)\n",
        "    rmse_te.append(rmse_te1)\n",
        "  return depth,rmse_tr,rmse_te\n",
        "#rf.get_params().keys()\n",
        "#y_train_pred_rf = rf.predict(x_train_final,y_train)\n",
        "#y_pred_rf=rf.predict(x_test_final)"
      ],
      "metadata": {
        "id": "wYG-yJoN2m8U"
      },
      "execution_count": 76,
      "outputs": []
    },
    {
      "cell_type": "code",
      "source": [
        "depth,rmse_tr,rmse_te = RandomForestWithHyperparameterTuning(x_train_final,x_test_final,y_train,y_test)\n",
        "\n",
        "plt.plot(depth, rmse_tr,'r',label='train_score')\n",
        "plt.scatter(depth, rmse_tr)\n",
        "plt.plot(depth, rmse_te,'y',label='test_score')\n",
        "plt.scatter(depth, rmse_te)\n",
        "plt.ylabel('rmse')\n",
        "plt.xlabel('Depth')\n",
        "plt.title('depth vs rmse')\n",
        "plt.legend()\n",
        "plt.show()"
      ],
      "metadata": {
        "colab": {
          "base_uri": "https://localhost:8080/",
          "height": 312
        },
        "id": "Rn9IK_xCSHy_",
        "outputId": "f5b28ca5-93a0-4488-988e-aaf8aa5ca5ab"
      },
      "execution_count": 77,
      "outputs": [
        {
          "output_type": "stream",
          "name": "stderr",
          "text": [
            "100%|██████████| 5/5 [12:07<00:00, 145.59s/it]\n"
          ]
        },
        {
          "output_type": "display_data",
          "data": {
            "text/plain": [
              "<Figure size 432x288 with 1 Axes>"
            ],
            "image/png": "[encoded data removed]"
          },
          "metadata": {}
        }
      ]
    },
    {
      "cell_type": "code",
      "source": [
        "print(depth)\n",
        "print(rmse_tr)\n",
        "print(rmse_te)"
      ],
      "metadata": {
        "colab": {
          "base_uri": "https://localhost:8080/"
        },
        "id": "IhHKktG3Ky4N",
        "outputId": "21ea2b93-e825-4fdf-fb2c-ab7313e1ce06"
      },
      "execution_count": 80,
      "outputs": [
        {
          "output_type": "stream",
          "name": "stdout",
          "text": [
            "[10, 11, 12, 14, 15]\n",
            "[272.1426549570906, 267.80318123478645, 262.84471179650114, 252.15089299148295, 246.2002393557357]\n",
            "[273.1771050511722, 269.8555061890437, 266.3439552186663, 259.60041212331606, 256.3461032501138]\n"
          ]
        }
      ]
    },
    {
      "cell_type": "code",
      "source": [
        "## from above it can be observed that the after depth 11 the difference between train test score is increasing so lets keep our final random forest at depth =12 and n_estimator = 20,to compensate the variance.\n",
        "rf = RandomForestRegressor(criterion ='squared_error',random_state = 1, max_depth = 12, n_estimators= 20)\n",
        "rf.fit(x_train_final,y_train)\n",
        "y_train_pred_rf = rf.predict(x_train_final)\n",
        "y_test_pred_rf = rf.predict(x_test_final)\n",
        "# rmse\n",
        "rmse_tr_rf = math.sqrt(mean_squared_error(y_train,y_train_pred_rf))\n",
        "rmse_te_rf = math.sqrt(mean_squared_error(y_test,y_test_pred_rf))\n",
        "print(\"rmse for train is:\",rmse_tr_rf)\n",
        "print(\"rmse for test is:\",rmse_te_rf)\n",
        "# r2 error\n",
        "r2_train_rf = r2_score(y_train,y_train_pred_rf)\n",
        "r2_test_rf = r2_score(y_test,y_test_pred_rf)\n",
        "print(\"r2_square for train is:\", r2_train_rf)\n",
        "print(\"r2_square for test is:\", r2_test_rf)\n",
        "# mean_absolute_percentage_error\n",
        "MAPE_train_rf = mean_absolute_percentage_error(y_train,y_train_pred_rf)\n",
        "MAPE_test_rf = mean_absolute_percentage_error(y_test,y_test_pred_rf)\n",
        "print(\"MAPE score for train:\",MAPE_train_rf)\n",
        "print(\"MAPE score for test:\", MAPE_test_rf)"
      ],
      "metadata": {
        "colab": {
          "base_uri": "https://localhost:8080/"
        },
        "id": "jc-Y1uVbIFdQ",
        "outputId": "a040fa66-3129-48f1-ef54-eba48829f15c"
      },
      "execution_count": 81,
      "outputs": [
        {
          "output_type": "stream",
          "name": "stdout",
          "text": [
            "rmse for train is: 262.46361887256245\n",
            "rmse for test is: 265.91283333536813\n",
            "r2_square for train is: 0.6780897209895171\n",
            "r2_square for test is: 0.6684703723075377\n",
            "MAPE score for train: 0.42906691733695485\n",
            "MAPE score for test: 0.43665259971273446\n"
          ]
        }
      ]
    }
  ],
  "metadata": {
    "colab": {
      "provenance": [],
      "authorship_tag": "ABX9TyPhRkCzKw0Yx22bs+vAPywN",
      "include_colab_link": true
    },
    "kernelspec": {
      "display_name": "Python 3",
      "name": "python3"
    },
    "language_info": {
      "name": "python"
    }
  },
  "nbformat": 4,
  "nbformat_minor": 0
}